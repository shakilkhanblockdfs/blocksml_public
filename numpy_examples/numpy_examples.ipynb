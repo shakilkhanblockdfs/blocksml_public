{
 "cells": [
  {
   "cell_type": "code",
   "execution_count": 1,
   "metadata": {},
   "outputs": [],
   "source": [
    "import numpy as np"
   ]
  },
  {
   "cell_type": "markdown",
   "metadata": {},
   "source": [
    "Numpy Reference Doc\n",
    "https://numpy.org/doc/stable/reference/index.html"
   ]
  },
  {
   "cell_type": "code",
   "execution_count": 2,
   "metadata": {},
   "outputs": [
    {
     "name": "stdout",
     "output_type": "stream",
     "text": [
      "<class 'numpy.ndarray'>\n"
     ]
    }
   ],
   "source": [
    "np_array =np.array(\"hello\")\n",
    "print(type(np_array))"
   ]
  },
  {
   "cell_type": "code",
   "execution_count": 3,
   "metadata": {},
   "outputs": [
    {
     "data": {
      "text/plain": [
       "array('hello', dtype='<U5')"
      ]
     },
     "execution_count": 3,
     "metadata": {},
     "output_type": "execute_result"
    }
   ],
   "source": [
    "np_array"
   ]
  },
  {
   "cell_type": "code",
   "execution_count": 6,
   "metadata": {},
   "outputs": [
    {
     "data": {
      "text/plain": [
       "array([0, 1, 2, 3, 4, 5, 6, 7, 8, 9])"
      ]
     },
     "execution_count": 6,
     "metadata": {},
     "output_type": "execute_result"
    }
   ],
   "source": [
    "# Returns evenly spaced values\n",
    "np_array = np.arange(0,10)\n",
    "np_array"
   ]
  },
  {
   "cell_type": "code",
   "execution_count": 7,
   "metadata": {},
   "outputs": [
    {
     "data": {
      "text/plain": [
       "array([0. , 0.5, 1. , 1.5, 2. , 2.5, 3. , 3.5, 4. , 4.5, 5. , 5.5, 6. ,\n",
       "       6.5, 7. , 7.5, 8. , 8.5, 9. , 9.5])"
      ]
     },
     "execution_count": 7,
     "metadata": {},
     "output_type": "execute_result"
    }
   ],
   "source": [
    "# Returns evenly spaced values, but by 0.5\n",
    "np_array = np.arange(0,10, 0.5)\n",
    "np_array"
   ]
  },
  {
   "cell_type": "code",
   "execution_count": 9,
   "metadata": {},
   "outputs": [
    {
     "name": "stdout",
     "output_type": "stream",
     "text": [
      "[10. 11. 12. 13. 14. 15. 16. 17. 18. 19. 20.]\n",
      "10.0\n",
      "11.0\n",
      "12.0\n",
      "13.0\n",
      "14.0\n",
      "15.0\n",
      "16.0\n",
      "17.0\n",
      "18.0\n",
      "19.0\n",
      "20.0\n"
     ]
    }
   ],
   "source": [
    "# In summary, use arange when you need to specify a start, stop, and step size, and use linspace when you need a specific number of points evenly spaced within an interval.\n",
    "# But both can do the same thing, its just preference\n",
    "np_array = np.linspace(10,20,11)\n",
    "print(np_array)\n",
    "\n",
    "# Iterating over the array\n",
    "for i in np_array:\n",
    "    print(i)"
   ]
  },
  {
   "cell_type": "code",
   "execution_count": 10,
   "metadata": {},
   "outputs": [
    {
     "data": {
      "text/plain": [
       "array([[1., 1., 1., 1., 1.],\n",
       "       [1., 1., 1., 1., 1.],\n",
       "       [1., 1., 1., 1., 1.]])"
      ]
     },
     "execution_count": 10,
     "metadata": {},
     "output_type": "execute_result"
    }
   ],
   "source": [
    "np_matrix_ones = np.ones([3,5])          # 3 row and 5 column matrix with all ones\n",
    "np_matrix_ones"
   ]
  },
  {
   "cell_type": "code",
   "execution_count": 12,
   "metadata": {},
   "outputs": [
    {
     "name": "stdout",
     "output_type": "stream",
     "text": [
      "[[0. 0. 0. 0.]\n",
      " [0. 0. 0. 0.]]\n"
     ]
    }
   ],
   "source": [
    "np_matrix_zeroes = np.zeros([2,4])          # 2 row and 4 column matrix with all zeroes\n",
    "np_matrix_zeroes\n",
    "\n"
   ]
  },
  {
   "cell_type": "code",
   "execution_count": 13,
   "metadata": {},
   "outputs": [
    {
     "data": {
      "text/plain": [
       "array([[0, 0, 0, 0],\n",
       "       [0, 0, 0, 0]])"
      ]
     },
     "execution_count": 13,
     "metadata": {},
     "output_type": "execute_result"
    }
   ],
   "source": [
    "np_matrix_zeroes = np.zeros([2,4], dtype=int)          # 2 row and 4 column matrix with all zeroes and type integer\n",
    "np_matrix_zeroes"
   ]
  },
  {
   "cell_type": "code",
   "execution_count": 14,
   "metadata": {},
   "outputs": [
    {
     "data": {
      "text/plain": [
       "array([[1., 0., 0., 0., 0.],\n",
       "       [0., 1., 0., 0., 0.],\n",
       "       [0., 0., 1., 0., 0.],\n",
       "       [0., 0., 0., 1., 0.],\n",
       "       [0., 0., 0., 0., 1.]])"
      ]
     },
     "execution_count": 14,
     "metadata": {},
     "output_type": "execute_result"
    }
   ],
   "source": [
    "#  np.eye returns only the square matrix\n",
    "np_idendity_matrix = np.eye(5)      # idendity Matrix of 5X5. It has all diagonals as one.\n",
    "np_idendity_matrix"
   ]
  },
  {
   "cell_type": "code",
   "execution_count": 15,
   "metadata": {},
   "outputs": [
    {
     "name": "stdout",
     "output_type": "stream",
     "text": [
      "[[0 1 2 3 4]\n",
      " [5 6 7 8 9]]\n"
     ]
    }
   ],
   "source": [
    "arr = np.arange(0,10)                    # Reshaped a linear list of data to 2X5 Matrix\n",
    "arr_reshape = arr.reshape(2,5)\n",
    "print(arr_reshape)"
   ]
  },
  {
   "cell_type": "code",
   "execution_count": 16,
   "metadata": {},
   "outputs": [
    {
     "name": "stdout",
     "output_type": "stream",
     "text": [
      "0.5000001943375613\n",
      "0.8660252915835662\n",
      "0.5773505683919328\n",
      "1.5707963267948966\n"
     ]
    }
   ],
   "source": [
    "## Trigonometric functions\n",
    "print(np.sin(0.523599))           # 0.523599 radian is 30 degree\n",
    "print(np.cos(0.523599))\n",
    "print(np.tan(0.523599))\n",
    "print(np.pi/2)"
   ]
  },
  {
   "cell_type": "code",
   "execution_count": 17,
   "metadata": {},
   "outputs": [
    {
     "name": "stdout",
     "output_type": "stream",
     "text": [
      "7.38905609893065\n",
      "0.6931471805599453\n",
      "2.0\n",
      "[  7.3890561   54.59815003 403.42879349]\n"
     ]
    }
   ],
   "source": [
    "print(np.exp(2))         # this is equal to (e**2)       \n",
    "print(np.log(2))         # Log of 2 with base e.\n",
    "print(np.log10(100))     # Log 100 with base 2\n",
    "#  The number e, also known as Euler's number, is a mathematical constant approximately equal to 2.71828 \n",
    "#  that can be characterized in many ways. It is the base ...\n",
    "array = np.array([2,4,6])\n",
    "print(np.exp(array))           # This will print e**2, e**4, e**6"
   ]
  },
  {
   "cell_type": "code",
   "execution_count": 18,
   "metadata": {},
   "outputs": [
    {
     "name": "stdout",
     "output_type": "stream",
     "text": [
      "[[ 1  2  3  4  5]\n",
      " [ 6  7  8  9 10]]\n",
      "[[12 13 14 15 16]\n",
      " [17 18 19 20 21]]\n",
      "[[13 15 17 19 21]\n",
      " [23 25 27 29 31]]\n",
      "[[ 12  26  42  60  80]\n",
      " [102 126 152 180 210]]\n",
      "[[-11 -11 -11 -11 -11]\n",
      " [-11 -11 -11 -11 -11]]\n"
     ]
    }
   ],
   "source": [
    "# Normal Matrix multiplication and addition are performed column wise\n",
    "\n",
    "arr1 = np.arange(1,11).reshape(2,5)\n",
    "print(arr1)\n",
    "arr2 = np.arange(12,22).reshape(2,5)\n",
    "print(arr2)\n",
    "print(arr1+arr2)         # Operations are columnwise of matrix\n",
    "print(arr1*arr2)         # Operations are columnwise of matrix\n",
    "print(arr1-arr2)"
   ]
  },
  {
   "cell_type": "code",
   "execution_count": 20,
   "metadata": {},
   "outputs": [
    {
     "name": "stdout",
     "output_type": "stream",
     "text": [
      "[[ 1  2  3  4  5]\n",
      " [ 6  7  8  9 10]]\n",
      "[[12 13 14]\n",
      " [15 16 17]\n",
      " [18 19 20]\n",
      " [21 22 23]\n",
      " [24 25 26]]\n",
      "---------------------\n",
      "[[300 315 330]\n",
      " [750 790 830]]\n",
      "[[ 0  1  2  3]\n",
      " [ 4  5  6  7]\n",
      " [ 8  9 10 11]]\n",
      "[[ 0  4  8]\n",
      " [ 1  5  9]\n",
      " [ 2  6 10]\n",
      " [ 3  7 11]]\n"
     ]
    }
   ],
   "source": [
    "##### Linear algebra Matrix multiplication\n",
    "\n",
    "arr1 = np.arange(1,11).reshape(2,5)\n",
    "print(arr1)\n",
    "arr2 = np.arange(12,27).reshape(5,3)\n",
    "print(arr2)\n",
    "print(\"---------------------\")\n",
    "print(arr1 @ arr2)                 ## This will do the actual matrix dot mult\n",
    "\n",
    "# Transpose a matrix. Flip rows to columns\n",
    "\n",
    "arr1 = np.arange(0,12).reshape(3,4)\n",
    "print(arr1)\n",
    "print(np.transpose(arr1))"
   ]
  },
  {
   "cell_type": "code",
   "execution_count": 21,
   "metadata": {},
   "outputs": [
    {
     "name": "stdout",
     "output_type": "stream",
     "text": [
      "[[ 0  4  8]\n",
      " [ 1  5  9]\n",
      " [ 2  6 10]\n",
      " [ 3  7 11]]\n"
     ]
    }
   ],
   "source": [
    "# We can do transpose in another way as\n",
    "print(arr1.T)  ## Shirt hand notation of Matrix transpose"
   ]
  },
  {
   "cell_type": "code",
   "execution_count": 22,
   "metadata": {},
   "outputs": [
    {
     "name": "stdout",
     "output_type": "stream",
     "text": [
      "[[ 0  1  2  3]\n",
      " [ 4  5  6  7]\n",
      " [ 8  9 10 11]]\n",
      "0\n",
      "11\n"
     ]
    }
   ],
   "source": [
    "# min and Maximum in a numpy\n",
    "arr1 = np.arange(0,12).reshape(3,4)\n",
    "print(arr1)\n",
    "print(np.min(arr1))\n",
    "print(np.max(arr1))"
   ]
  },
  {
   "cell_type": "code",
   "execution_count": 24,
   "metadata": {},
   "outputs": [
    {
     "name": "stdout",
     "output_type": "stream",
     "text": [
      "[0.05472145 0.45889411 0.06816261 0.93924348 0.61564499]\n",
      "[[0.51665582 0.9719442  0.31055625 0.37807853 0.66865533]\n",
      " [0.10752314 0.41818911 0.2616502  0.18183353 0.95092091]\n",
      " [0.77048597 0.03301444 0.23613081 0.38084529 0.21484267]\n",
      " [0.09617305 0.19300206 0.74553647 0.89715079 0.17316256]\n",
      " [0.38858115 0.37297499 0.87199938 0.28597559 0.60467773]]\n",
      "[-0.39757766 -1.40633157 -0.41752409  0.72606848  0.56175011]\n",
      "[[-0.13586318 -0.36648819  0.24206068  0.39656847  1.61734617]\n",
      " [ 1.08246345 -0.17736113 -0.83294001  0.80560527  1.96656411]\n",
      " [ 0.79183575 -0.29660975  1.6081789  -0.82885368 -0.63637439]\n",
      " [ 0.13923293  2.70014039  0.33209147  0.13663629  0.51699595]\n",
      " [-1.64154155 -0.58379265  0.38668871 -1.54780113  0.91962414]]\n",
      "-0.18672294607411072\n",
      "0.7718256477309448\n",
      "[2 2 3 3 1 3 3 1 3 1]\n"
     ]
    }
   ],
   "source": [
    "# Random Value generations\n",
    "print(np.random.rand(5)) # Create a single dimensional array of 5 elements with random values between 0 - 1 \n",
    "print(np.random.rand(5,5))  # Create a 5X5 matrix of random number with values from 0 - 1\n",
    "\n",
    "# randn creates a random number whose samples are drawn from normal distribution(Whose mean is 0 and standard deviation as 1)\n",
    "arr1 = np.random.randn(5)\n",
    "arr2 = np.random.randn(5,5) # Same as above but genarated 5X5 \n",
    "print(arr1)\n",
    "print(arr2)\n",
    "print(np.mean(arr1))            #   Mean would be closer to 0\n",
    "print(np.std(arr1))             #   Standard deviation would be 1\n",
    "\n",
    "# Creates a 10 random number between 1 and 5(not including 5)\n",
    "print(np.random.randint(1, 5, 10))  # low, high, number of random numbers.\n"
   ]
  },
  {
   "cell_type": "code",
   "execution_count": 25,
   "metadata": {},
   "outputs": [
    {
     "name": "stdout",
     "output_type": "stream",
     "text": [
      "[3 5 7 9]\n",
      "[ 0.27422833 -0.4660131  -0.20510835 -2.41823636]\n"
     ]
    }
   ],
   "source": [
    "# Accessing elements from the np array\n",
    "\n",
    "print(np.arange(3, 10, 2))      # Range of numbers from 3-10 and step size of 2. The indices are 3,5,7,9\n",
    "indices = np.arange(3, 10, 2)   # The indices are 3,5,7,9 \n",
    "# Now let suppose we have a numpy array\n",
    "arr1 = np.random.randn(50)\n",
    "print(arr1[indices]) # Since indices are 3,5,7,9 so from arr1 get the values located at indices 3,5,7,9\n"
   ]
  },
  {
   "cell_type": "code",
   "execution_count": 26,
   "metadata": {},
   "outputs": [
    {
     "name": "stdout",
     "output_type": "stream",
     "text": [
      "[ 0.62436518 -0.84619007 -0.32874376 -1.06862471 -0.31047806 -1.7026289\n",
      "  0.29262578  0.86223621 -1.91752405  0.38161524 -0.8190149   0.10043036\n",
      "  1.30974454 -1.04855835  1.84244893 -0.91169803  0.58599228  0.85713519\n",
      " -1.79100047 -0.78048969  0.27860837  0.44500225 -2.04265809 -0.0681468\n",
      " -0.00839466 -0.90755025  0.52891544  1.96355822 -1.42127565  0.62241283\n",
      "  0.576798   -0.59098982 -0.18666469 -0.24511414 -1.11446403 -1.21271337\n",
      " -0.12914449 -1.5922746   0.10864379  0.02426259  0.74970288 -0.0527003\n",
      " -1.18902698  0.12158786 -0.14224912  1.627082    0.01885257 -0.15322991\n",
      " -0.50068429 -0.44106767]\n",
      "[0.62436518 0.29262578 0.86223621 0.38161524 0.10043036 1.30974454\n",
      " 1.84244893 0.58599228 0.85713519 0.27860837 0.44500225 0.52891544\n",
      " 1.96355822 0.62241283 0.576798   0.10864379 0.02426259 0.74970288\n",
      " 0.12158786 1.627082   0.01885257]\n",
      "[-0.84619007 -0.32874376 -1.06862471 -0.31047806 -1.7026289  -1.91752405\n",
      " -0.8190149  -1.04855835 -0.91169803 -1.79100047 -0.78048969 -2.04265809\n",
      " -0.0681468  -0.00839466 -0.90755025 -1.42127565 -0.59098982 -0.18666469\n",
      " -0.24511414 -1.11446403 -1.21271337 -0.12914449 -1.5922746  -0.0527003\n",
      " -1.18902698 -0.14224912 -0.15322991 -0.50068429 -0.44106767]\n"
     ]
    }
   ],
   "source": [
    "# Choosing the elements of array based on certain condition\n",
    "arr = np.random.randn(50)\n",
    "print(arr)\n",
    "# Now let suppose we want only those elemnts which are greater than 0 in array arr then we can say\n",
    "print(arr[arr>0])        # Filter data which are greater than Zero\n",
    "# Similarly for numbers less than zero we can say\n",
    "print(arr[arr<0])       # Filter data which are lesser than Zero  "
   ]
  },
  {
   "cell_type": "code",
   "execution_count": 28,
   "metadata": {},
   "outputs": [
    {
     "name": "stdout",
     "output_type": "stream",
     "text": [
      "[4 2 2 2 2 6 1]\n"
     ]
    }
   ],
   "source": [
    "# Below code would replace all elements greater than 6 with 2, remainder of the element in array will remain as it is\n",
    "vec1 = np.array([4, 7, 8, 9, 10, 6, 1])\n",
    "vec1[vec1>6] = 2\n",
    "print(vec1)"
   ]
  },
  {
   "cell_type": "code",
   "execution_count": 29,
   "metadata": {},
   "outputs": [
    {
     "name": "stdout",
     "output_type": "stream",
     "text": [
      "[48  9 39 12 47 28  5 48  3 29  2 44 11 48 31 47 43 29 20 21]\n",
      "[[48  9 39 12]\n",
      " [47 28  5 48]\n",
      " [ 3 29  2 44]\n",
      " [11 48 31 47]\n",
      " [43 29 20 21]]\n",
      "5\n",
      "5\n",
      "[47 28  5 48]\n",
      "[[  48    9   39   12]\n",
      " [-100 -100    5   48]\n",
      " [-100 -100    2   44]\n",
      " [  11   48   31   47]\n",
      " [  43   29   20   21]]\n",
      "[[0 0 0 0]\n",
      " [0 0 0 0]\n",
      " [0 0 0 0]\n",
      " [0 0 0 0]\n",
      " [0 0 0 0]]\n"
     ]
    }
   ],
   "source": [
    "arr = np.random.randint(0, 50, 20)    # Low, high, number of random number\n",
    "print(arr)\n",
    "new_arr = arr.reshape((5,4))\n",
    "print(new_arr)\n",
    "\n",
    "# Now in order to access a specific element let suppose  2nd row and 3rd element we can say\n",
    "print(new_arr[1,2])          # We can access in this way the element at indices 1 and 2 and also as shotcut in below\n",
    "print(new_arr[1][2])    \n",
    "\n",
    "print(new_arr[1])           # Print all the elements of row index 1\n",
    "\n",
    "new_arr[1:3, 0:2] = -100       # Changes the elements from \"row 1 till 2(Not including 3)\" and from column 0 till \n",
    "print(new_arr)\n",
    "\n",
    "new_arr[:] = 0\n",
    "print(new_arr)         # Change all rows and columns to 0"
   ]
  },
  {
   "cell_type": "code",
   "execution_count": 30,
   "metadata": {},
   "outputs": [
    {
     "name": "stdout",
     "output_type": "stream",
     "text": [
      "[[ 8 23  3 22]\n",
      " [40 26 43 17]\n",
      " [13 42 42 23]\n",
      " [36  0 38 11]\n",
      " [29  8 17 31]]\n",
      "[13 42 42]\n",
      "[0 0 0]\n",
      "[[ 8 23  3 22]\n",
      " [40 26 43 17]\n",
      " [ 0  0  0 23]\n",
      " [36  0 38 11]\n",
      " [29  8 17 31]]\n"
     ]
    }
   ],
   "source": [
    "# Copy method to create a new copy of array instead of reference to original array\n",
    "\n",
    "arr = np.random.randint(0, 50, 20).reshape(5,4)    # Low, high, number of random number\n",
    "print(arr)\n",
    "sub_array = arr[2,0:3]\n",
    "print(sub_array)\n",
    "sub_array[:] = 0 \n",
    "print(sub_array)\n",
    "print(arr)            # Note original array also got modified with zeroes for 3rd row and 0-3 columns\n"
   ]
  },
  {
   "cell_type": "code",
   "execution_count": 31,
   "metadata": {},
   "outputs": [
    {
     "name": "stdout",
     "output_type": "stream",
     "text": [
      "[27 35 42]\n",
      "[0 0 0]\n",
      "[[ 6 34 39 29]\n",
      " [46 40 24 18]\n",
      " [27 35 42 41]\n",
      " [30 46 42 19]\n",
      " [32 14 14 23]]\n"
     ]
    }
   ],
   "source": [
    "# If we dont want reference or tie up between original array and new subarray we can use copy method\n",
    "\n",
    "arr = np.random.randint(0, 50, 20).reshape(5,4)    # Low, high, number of random number\n",
    "sub_array = arr[2,0:3].copy()\n",
    "print(sub_array)\n",
    "sub_array[:] = 0 \n",
    "print(sub_array)\n",
    "print(arr)            # Note original array also got modified with zeroes for 3rd row and 0-3 columns\n"
   ]
  },
  {
   "cell_type": "code",
   "execution_count": 32,
   "metadata": {},
   "outputs": [
    {
     "name": "stdout",
     "output_type": "stream",
     "text": [
      "[[15 16]\n",
      " [17 18]\n",
      " [19 20]\n",
      " [21 22]\n",
      " [23 24]]\n",
      "[[15 16]\n",
      " [17 18]\n",
      " [19 20]\n",
      " [21 22]\n",
      " [23 24]]\n"
     ]
    }
   ],
   "source": [
    "##########################################################\n",
    "# saving the np data\n",
    "arr = np.arange(15,25).reshape(5,2)\n",
    "print(arr)\n",
    "np.save(\"np_saved_data\", arr)\n",
    "loaded_arr = np.load(\"./np_saved_data.npy\")\n",
    "print(loaded_arr)"
   ]
  },
  {
   "cell_type": "code",
   "execution_count": 33,
   "metadata": {},
   "outputs": [
    {
     "name": "stdout",
     "output_type": "stream",
     "text": [
      "[[15 16]\n",
      " [17 18]\n",
      " [19 20]\n",
      " [21 22]\n",
      " [23 24]]\n",
      "[[25 26 27 28 29]\n",
      " [30 31 32 33 34]]\n"
     ]
    }
   ],
   "source": [
    "# saving multiple data in one file using np.savez\n",
    "# and loading multiple arrays back from file\n",
    "arr1 = np.arange(15,25).reshape(5,2) \n",
    "arr2 = np.arange(25,35).reshape(2,5) \n",
    "np.savez(\"np_saved_ez\", arr1, arr2)\n",
    "loaded_array = np.load(\"np_saved_ez.npz\")\n",
    "arr_1 = np.load(\"np_saved_ez.npz\")\n",
    "print(loaded_array[\"arr_0\"])\n",
    "print(loaded_array[\"arr_1\"])"
   ]
  },
  {
   "cell_type": "code",
   "execution_count": 34,
   "metadata": {},
   "outputs": [
    {
     "name": "stdout",
     "output_type": "stream",
     "text": [
      "[[15 16]\n",
      " [17 18]\n",
      " [19 20]\n",
      " [21 22]\n",
      " [23 24]]\n"
     ]
    },
    {
     "name": "stderr",
     "output_type": "stream",
     "text": [
      "/var/folders/xv/mx7fpfds1nb2h2ps9fxzf1180000gn/T/ipykernel_4222/3594553886.py:4: DeprecationWarning: loadtxt(): Parsing an integer via a float is deprecated.  To avoid this warning, you can:\n",
      "    * make sure the original data is stored as integers.\n",
      "    * use the `converters=` keyword argument.  If you only use\n",
      "      NumPy 1.23 or later, `converters=float` will normally work.\n",
      "    * Use `np.loadtxt(...).astype(np.int64)` parsing the file as\n",
      "      floating point and then convert it.  (On all NumPy versions.)\n",
      "  (Deprecated NumPy 1.23)\n",
      "  arr1 = np.loadtxt(\"np_save.txt\", delimiter = \",\", dtype=int)\n"
     ]
    }
   ],
   "source": [
    "# Saving and loading the numpy array in a textfile and loading it back\n",
    "arr1 = np.arange(15,25, dtype = int).reshape(5,2) \n",
    "np.savetxt(\"np_save.txt\", arr1, delimiter=\",\")\n",
    "arr1 = np.loadtxt(\"np_save.txt\", delimiter = \",\", dtype=int)\n",
    "print(arr1)"
   ]
  },
  {
   "cell_type": "code",
   "execution_count": 35,
   "metadata": {},
   "outputs": [
    {
     "name": "stdout",
     "output_type": "stream",
     "text": [
      "[0 1 2 3 4 5 6 7 8 9]\n",
      "(10,)\n",
      "------------\n",
      "[ 0  2  4  6  8 10]\n",
      "(6,)\n",
      "[0. 0. 0. 0. 0.]\n",
      "(5,)\n",
      "---------------------\n",
      "[[0. 0. 0. 0.]\n",
      " [0. 0. 0. 0.]\n",
      " [0. 0. 0. 0.]\n",
      " [0. 0. 0. 0.]\n",
      " [0. 0. 0. 0.]]\n",
      "(5, 4)\n",
      "---------------------\n",
      "[[8 8 8 8]\n",
      " [8 8 8 8]\n",
      " [8 8 8 8]\n",
      " [8 8 8 8]\n",
      " [8 8 8 8]]\n",
      "(5, 4)\n"
     ]
    }
   ],
   "source": [
    "\n",
    "a1 = np.arange(10)\n",
    "print(a1) \n",
    "print(a1.shape)\n",
    "\n",
    "print('------------')\n",
    "## Provide the step size of 2\n",
    "a2 = np.arange(0,11,2)      ##2,2,4,6,8,10\n",
    "print(a2) \n",
    "print(a2.shape)             ##\n",
    "\n",
    "a3 = np.zeros(5)\n",
    "print(a3)\n",
    "print(a3.shape)\n",
    "\n",
    "\n",
    "print('---------------------')\n",
    "a4 = np.zeros((5,4))    # Two dimensional array with 5 rows and 4 columns\n",
    "print(a4)\n",
    "print(a4.shape)\n",
    "\n",
    "\n",
    "print('---------------------')\n",
    "a5 = np.full((5,4),8)    # Two dimensional array with 5 rows and 4 columns and filled with all 8\n",
    "print(a5)\n",
    "print(a5.shape)"
   ]
  },
  {
   "cell_type": "code",
   "execution_count": 36,
   "metadata": {},
   "outputs": [
    {
     "name": "stdout",
     "output_type": "stream",
     "text": [
      "-------------------\n",
      "[[1. 0. 0. 0.]\n",
      " [0. 1. 0. 0.]\n",
      " [0. 0. 1. 0.]\n",
      " [0. 0. 0. 1.]]\n"
     ]
    }
   ],
   "source": [
    "\n",
    "###Identity Matrix\n",
    "print(\"-------------------\")\n",
    "a6 = np.eye(4)  # Creates an identity matrix of 4X4 with all diagoanal element as 1\n",
    "print(a6)\n"
   ]
  },
  {
   "cell_type": "code",
   "execution_count": 37,
   "metadata": {},
   "outputs": [
    {
     "name": "stdout",
     "output_type": "stream",
     "text": [
      "-------------------\n",
      "[[0.80154653 0.79212928 0.31239958 0.36932365]\n",
      " [0.93746759 0.26255098 0.2654385  0.40730722]]\n",
      "[1 2 3 4 5]\n",
      "------------------\n"
     ]
    }
   ],
   "source": [
    "\n",
    "## Array filled with random number\n",
    "print(\"-------------------\")\n",
    "a7 = np.random.random((2,4))\n",
    "print(a7)\n",
    "\n",
    "# Create a numpy array from python list\n",
    "list1 = [1,2,3,4,5]\n",
    "r1 = np.array(list1)\n",
    "print(r1)\n",
    "\n",
    "\n",
    "## Creating and accessing a two dimensional array\n",
    "print('------------------')\n",
    "#a4 = np.zeros((5,4))    # Two dimensional array with 5 rows and 4 columns"
   ]
  },
  {
   "cell_type": "code",
   "execution_count": 38,
   "metadata": {},
   "outputs": [
    {
     "name": "stdout",
     "output_type": "stream",
     "text": [
      "[[9.13629268e-01 1.15057666e-01 8.64482398e-01 6.92712695e-01]\n",
      " [8.88632558e-01 1.44331271e-04 7.26303572e-01 3.23592486e-01]\n",
      " [7.09662438e-01 1.07319733e-01 1.79296971e-01 1.95758600e-01]\n",
      " [5.44913554e-01 6.73111385e-01 8.67612352e-01 8.87528847e-01]\n",
      " [9.50508386e-01 9.67719536e-02 4.36562248e-02 5.61017257e-01]]\n",
      "(5, 4)\n",
      "------------------\n",
      "[0.91362927 0.11505767 0.8644824  0.6927127 ]\n",
      "[8.88632558e-01 1.44331271e-04 7.26303572e-01 3.23592486e-01]\n",
      "[0.70966244 0.10731973 0.17929697 0.1957586 ]\n",
      "[0.54491355 0.67311139 0.86761235 0.88752885]\n",
      "[0.95050839 0.09677195 0.04365622 0.56101726]\n",
      "0.7096624376617939\n",
      "0.10731973297383202\n"
     ]
    }
   ],
   "source": [
    "a4 = np.random.random((5,4) )    # Two dimensional array with 5 rows and 4 columns\n",
    "\n",
    "print(a4)\n",
    "print(a4.shape)\n",
    "\n",
    "print('------------------')\n",
    "for x in range(len(a4)):\n",
    "    print(a4[x])\n",
    "\n",
    "print(a4[2][0])\n",
    "print(a4[2][1])"
   ]
  },
  {
   "cell_type": "code",
   "execution_count": 40,
   "metadata": {},
   "outputs": [
    {
     "name": "stdout",
     "output_type": "stream",
     "text": [
      "[False  True False  True False  True False  True False  True]\n",
      "[1 3 5 7 9]\n",
      "0.5000001943375613\n",
      "[-0.98803162 -0.30481062  0.58061118 -0.80115264]\n"
     ]
    }
   ],
   "source": [
    "### print odd number using boolen indexing in numpy\n",
    "import numpy as np\n",
    "import time\n",
    "\n",
    "a = np.arange(10)\n",
    "print(a%2 == 1)\n",
    "odd_num = a[a%2 == 1]\n",
    "print(odd_num)\n",
    "\n",
    "\n",
    "def p(*args):\n",
    "    print(\"############################\")\n",
    "    for arg in args:\n",
    "        print(arg)\n",
    "\n",
    "print(np.sin(0.523599))\n",
    "\n",
    "print(np.sin(np.array([30,60,120,180])))"
   ]
  },
  {
   "cell_type": "code",
   "execution_count": 41,
   "metadata": {},
   "outputs": [
    {
     "name": "stdout",
     "output_type": "stream",
     "text": [
      "2\n"
     ]
    }
   ],
   "source": [
    "x1 = np.array([1,2,3,4])\n",
    "print(x1[1])"
   ]
  },
  {
   "cell_type": "code",
   "execution_count": 42,
   "metadata": {},
   "outputs": [
    {
     "name": "stdout",
     "output_type": "stream",
     "text": [
      "int64\n",
      "int32\n"
     ]
    }
   ],
   "source": [
    "x2 = np.array([4,3,1,2], dtype=np.int32)\n",
    "print(x1.dtype)\n",
    "print(x2.dtype)\n"
   ]
  },
  {
   "cell_type": "code",
   "execution_count": 43,
   "metadata": {},
   "outputs": [
    {
     "name": "stdout",
     "output_type": "stream",
     "text": [
      "[4 6 3 8]\n"
     ]
    }
   ],
   "source": [
    "print(x1*x2)  # Array of element wise multiplication  1*4, 2*3, 3*1, 4*2\n"
   ]
  },
  {
   "cell_type": "code",
   "execution_count": 44,
   "metadata": {},
   "outputs": [
    {
     "name": "stdout",
     "output_type": "stream",
     "text": [
      "0.0009140968322753906\n"
     ]
    }
   ],
   "source": [
    "# Create a random element in numpy\n",
    "\n",
    "r1= np.random.rand(1_000_000)\n",
    "r2= np.random.rand(1_000_000)\n",
    "\n",
    "start = time.time()\n",
    "x = r1 * r2\n",
    "end = time.time()\n",
    "print(end-start)\n"
   ]
  },
  {
   "cell_type": "code",
   "execution_count": 45,
   "metadata": {},
   "outputs": [
    {
     "name": "stdout",
     "output_type": "stream",
     "text": [
      "[21]\n"
     ]
    }
   ],
   "source": [
    "x1 = np.array([1,2,3,4])\n",
    "x2 = np.array([[4],[3],[1],[2]])\n",
    "\n",
    "print(x1 @ x2) # Scientific dot product of matrix\n",
    "# 1*4 + 2*3 + 3*1 + 4*2 = 21\n"
   ]
  },
  {
   "cell_type": "code",
   "execution_count": 46,
   "metadata": {},
   "outputs": [
    {
     "name": "stdout",
     "output_type": "stream",
     "text": [
      "[ 0  1  2  3  4  5  6  7  8  9 10 11]\n"
     ]
    }
   ],
   "source": [
    "# get a range of array similar to python range\n",
    "x = np.arange(12)\n",
    "print(x)            # Get a number from range 0 -12(not including 12)"
   ]
  },
  {
   "cell_type": "code",
   "execution_count": 47,
   "metadata": {},
   "outputs": [
    {
     "name": "stdout",
     "output_type": "stream",
     "text": [
      "[[ 0  1  2]\n",
      " [ 3  4  5]\n",
      " [ 6  7  8]\n",
      " [ 9 10 11]]\n",
      "(4, 3)\n",
      "[[ 0  3  6  9]\n",
      " [ 1  4  7 10]\n",
      " [ 2  5  8 11]]\n"
     ]
    }
   ],
   "source": [
    "# Reshap an array \n",
    "\n",
    "x = x.reshape(4,3)          # Shape it to 4 rows and 3 columns\n",
    "print(x)\n",
    "print(x.shape)              # Tells the shape of the Matrix, like 4,3 etc\n",
    "\n",
    "print(x.T)                  # Prints the transformed matrix, ROWs becomes column."
   ]
  },
  {
   "cell_type": "code",
   "execution_count": 48,
   "metadata": {},
   "outputs": [
    {
     "name": "stdout",
     "output_type": "stream",
     "text": [
      "[[ 1  2  3]\n",
      " [ 5  6  7]\n",
      " [ 3  6 -1]]\n",
      "7\n",
      "[ 3  6 -1]\n",
      "[2 6 6]\n"
     ]
    }
   ],
   "source": [
    "x= np.array([[1,2,3],[5,6,7],[3,6,-1]])\n",
    "print(x)\n",
    "\n",
    "# [[ 1  2  3]\n",
    "#  [ 5  6  7]\n",
    "#  [ 3  6 -1]]\n",
    "\n",
    "# If we need to get from second row and third element we can say\n",
    "print(x[1,2])      # this will print 7\n",
    "\n",
    "# If we need all element of 3rd row\n",
    "print(x[2,:])         # This will print 3, 6, -1\n",
    "\n",
    "# If we all all element of 2nd columns of all row we can say\n",
    "print(x[:, 1])  # This will print 2, 6, 6\n"
   ]
  },
  {
   "cell_type": "code",
   "execution_count": 49,
   "metadata": {},
   "outputs": [
    {
     "name": "stdout",
     "output_type": "stream",
     "text": [
      "############################\n",
      "[0 1 2]\n",
      "############################\n",
      "[0 2]\n",
      "############################\n",
      "[ 1  5 25]\n"
     ]
    }
   ],
   "source": [
    "# Intialize or fill an array with Another value\n",
    "\n",
    "x = np.arange(3)\n",
    "p(x)\n",
    "\n",
    "x = x[[True, False, True]]\n",
    "p(x)         # This will print the element where index was true like 0 2 in this case\n",
    "\n",
    "x =np.array([1,0,-2,5,25,0,-3]) \n",
    "p(x[x>=1])       # Gets the lcaotion of the array where it is greater than 1\n",
    "                # 1,5,25"
   ]
  },
  {
   "cell_type": "code",
   "execution_count": 50,
   "metadata": {},
   "outputs": [
    {
     "name": "stdout",
     "output_type": "stream",
     "text": [
      "[0 1 2 3 4 5 6 7 8 9]\n",
      "############################\n",
      "[0 1 8 9]\n",
      "############################\n",
      "[0 1 2 3 4 5 6 7]\n"
     ]
    }
   ],
   "source": [
    "arr = np.arange(10)\n",
    "print(arr)\n",
    "p(arr[(arr>7) |  (arr <2)])        # 0 1 8 9, prints an array 0 1 8 9\n",
    "                                    # Note we have to provide condition in bracket()\n",
    "\n",
    "p(arr[~(arr>7)])    # Print everything not greater than 7 [0,1,2,3,4,5,6,7]"
   ]
  },
  {
   "cell_type": "code",
   "execution_count": 51,
   "metadata": {},
   "outputs": [
    {
     "name": "stdout",
     "output_type": "stream",
     "text": [
      "############################\n",
      "[ 9.68090694e+00 -4.80296701e+00 -1.30936992e+01  8.63941917e+00\n",
      "  1.59643173e+00 -1.20640070e+01 -3.93873159e+00 -1.88892949e+00\n",
      "  4.26762941e+00  6.33899022e-01 -5.02489629e+00 -4.36237049e+00\n",
      " -1.53902180e+00 -2.58051984e+01  5.55720994e+00 -1.36165370e+01\n",
      " -1.40006298e+00  1.51369536e+00 -1.12496936e+01  1.16392597e+00\n",
      "  6.14218466e+00  2.01848867e+01  4.16946835e+00 -1.52186494e+00\n",
      " -5.21012940e+00  1.15567123e+01 -1.83302438e+00  5.81605016e+00\n",
      "  7.44173701e+00 -2.78889024e+00  8.84573419e+00 -7.56045103e+00\n",
      " -8.63410005e+00  1.03800000e+03  4.08840102e-01  1.22720302e+01\n",
      "  1.38840031e+00 -3.19816363e+00 -1.81544878e+01 -1.12766327e+01\n",
      "  5.26293195e+00  2.59896530e+01  1.46790701e+00 -6.60962747e+00\n",
      " -1.08136863e+01 -4.23421465e+00 -1.68502945e+01 -9.42478748e+00\n",
      " -2.26704165e+01  1.58994115e+01 -4.65007812e+00  7.15265340e+00\n",
      "  2.78806115e+00  1.43966002e+01  1.57019460e+01 -1.19140141e+01\n",
      " -7.05028012e+00 -3.39445530e+00  8.59302492e+00  1.10097570e+01\n",
      "  8.86664042e+00  6.64925718e+00 -7.19381940e+00  5.98909744e+00\n",
      " -4.09299660e+00 -3.36785702e+00  8.69968247e+00  5.17765448e+00\n",
      " -1.87318263e+01 -4.68833649e+00 -1.70667012e-01  1.45992341e-01\n",
      "  3.12618793e+00  1.20448928e+01  4.05666038e+00  2.26493599e+00\n",
      " -1.80006978e+01 -2.60751911e+01 -1.15329832e+01  8.82267941e+00\n",
      "  1.18060504e+01 -1.16900407e+00 -1.47674922e+01 -1.38473957e-01\n",
      "  4.54122546e+00  9.85963600e+00  1.46648289e+01 -2.36382630e+01\n",
      "  3.22069180e+00 -2.06420379e+00 -3.00886956e+00 -3.28394282e+00\n",
      "  7.65045275e+00 -1.15874132e+01 -1.09867228e+01 -1.68886309e+01\n",
      " -1.95264700e+00  1.27378302e+01  7.56614268e+00 -5.68723247e+00\n",
      " -7.78489086e+00  2.98156644e-01  6.22836839e+00 -6.29150123e+00\n",
      " -1.51751766e+00 -1.12926653e+01  7.64905048e+00  1.16229528e+01\n",
      "  5.50495477e+00  4.83905086e+00 -2.68139717e+00 -2.29294517e+01\n",
      " -2.27433489e+00 -1.21536910e+01 -9.43004958e+00 -1.03810632e+01\n",
      " -2.39023386e+01 -1.01531362e+01 -1.59591598e+01 -4.17259605e+00\n",
      " -3.13886557e+00 -6.41729001e-01 -7.62645009e+00  1.38383988e+01\n",
      " -4.22212963e+00  5.68362119e+00  1.24610440e+00  7.42698452e+00\n",
      " -1.41272365e+01 -4.71335778e+00 -2.48318007e+01  1.77314573e+01\n",
      " -5.19978813e+00 -1.70559191e+00 -1.62523394e+01 -1.15631943e+00\n",
      "  8.03418941e-01  3.31988708e+00 -1.25831022e+01  2.05878249e+00\n",
      "  1.18048876e+01  8.92306274e+00 -2.33977670e+00 -2.88207958e-02\n",
      " -2.54524403e+01  2.47028581e+01 -8.02109857e+00  1.66459016e+01\n",
      " -1.34282006e+01 -8.42876227e+00 -1.59837294e+01 -1.09121791e+01\n",
      " -4.98793029e+00  9.04305617e+00 -8.43016801e+00  1.05449838e+01\n",
      " -5.28054835e+00 -5.13425546e+00  1.34536137e+01  1.45892367e+01\n",
      "  1.40083157e+01 -3.38353583e+00  1.78885111e+01 -3.73216357e+00\n",
      " -3.69089500e+00 -2.55081787e-01  3.53607612e-01  4.99185540e+00\n",
      " -2.15687124e+01  1.61005988e+01  9.75350755e-01 -1.24959693e+01\n",
      " -3.36760527e+00 -2.79591187e+00  1.64167663e+01  5.28164670e+00\n",
      " -4.61519947e+00 -9.24487280e+00 -1.07672512e+00 -2.08073656e+01\n",
      " -2.68529016e+00 -9.25425579e+00  5.91399660e-01 -1.88641331e+00\n",
      " -1.22634162e+01 -3.79477650e+00  7.41933780e+00  9.14831194e-01\n",
      "  1.63508243e+01  4.33078286e+00 -1.08595703e+00 -1.66885068e+01\n",
      "  3.05209661e+00  3.39772600e+00  4.37043220e+00  1.09868421e+01\n",
      "  1.19632931e+01  4.26963066e+00  5.45890723e+00  1.21331794e+01\n",
      " -1.11109430e+00  7.40473208e+00 -1.48413949e+01  4.35747837e+00\n",
      "  2.47529968e+00 -1.10858188e+01 -8.89653754e+00 -2.30901772e+00\n",
      "  1.78957417e+01  2.30004900e+00  1.28020291e+01 -1.14610674e+00\n",
      "  1.22636779e+01  1.45657808e+01  1.69118478e+01  1.15983801e+01\n",
      " -2.09937851e+00 -5.85464414e+00  8.45562814e+00  6.93763742e+00\n",
      "  7.00268069e+00  5.74912493e+00  7.38244230e+00 -6.19608577e+00\n",
      "  2.29888728e+01  6.37841716e+00 -1.50409897e+01  7.86190603e+00\n",
      "  1.19062767e+00 -8.27473773e+00  5.50046046e+00  6.33271132e+00\n",
      " -2.12286160e+00  7.61938789e+00  1.40709525e+01 -1.93316746e+01\n",
      " -4.87510149e+00  2.72596804e+00  5.74055054e+00  2.13103996e+00\n",
      " -7.30738344e+00 -3.76692387e+00  1.82072332e+00  1.05528763e+01\n",
      "  2.37611860e-01  1.43186504e+01  1.74187333e+01 -1.30928973e+01\n",
      " -6.77846834e+00  5.35855003e+00 -1.13242405e+01  1.01636534e+01\n",
      "  8.82929100e+00 -8.02057520e+00 -6.79543089e+00 -2.11689223e+00\n",
      " -3.77605774e+00  1.41719768e+01  1.17199004e+01 -1.33468027e+01\n",
      " -1.90118388e+01  1.02211866e+01 -4.92447316e+00 -4.55695300e+00\n",
      " -7.65025243e+00  1.20099925e+00 -8.25589695e+00  7.39163508e+00\n",
      "  2.91042468e+00 -1.52805292e+01  7.63656397e-01  8.01902781e+00\n",
      " -8.55519523e+00  1.20757651e+01  1.08429807e+01 -5.04107096e+00\n",
      " -3.47388971e+00 -3.58989073e+00  1.11705610e+00  9.31767384e+00\n",
      " -4.29635926e+00  1.81574292e+00  4.35065985e+00 -8.78164408e+00\n",
      " -1.11657115e+01 -1.51245555e+00  3.59604497e+00 -8.22043577e+00\n",
      "  1.36268324e+01 -9.27862361e-01  3.53859097e+00  1.03081624e+00\n",
      " -1.02209963e-01  1.02794871e+01 -2.54522075e+01 -6.03653926e+00\n",
      "  4.41216403e+00  1.75323888e+01 -4.69277012e+00 -5.75524686e+00\n",
      " -2.35367949e+00 -3.46234293e+01  1.33163767e+01  8.98698312e+00\n",
      " -8.05297966e+00  1.19408121e+01  9.08289089e+00 -2.46216200e+00\n",
      " -1.43099266e+01 -1.68586720e+01 -3.72212547e+00 -3.23277453e+00\n",
      "  2.62861683e+01 -9.91553737e+00 -6.04931335e+00  1.34559007e+00\n",
      " -4.28827222e+00 -2.97101131e-03  9.56692807e-02  5.09553250e+00\n",
      "  4.89626314e+00  9.17074607e+00  1.51969767e+01 -2.63537688e+00\n",
      " -5.29817060e-01  2.38787346e+00 -4.82959621e+00 -1.07652148e+01\n",
      "  1.71694153e+01 -6.26551193e-01 -5.82144966e+00 -1.30785065e+01\n",
      " -1.03500884e+01 -9.85091455e+00 -2.22350313e+00  4.98291808e+00\n",
      "  1.19075006e+01 -1.16727855e+01  3.96121388e+00  5.25851326e+00\n",
      " -7.21230486e+00 -1.81547952e+01  9.03188448e+00  3.68244425e+00\n",
      " -1.87521494e+01  1.14860468e+00  3.12989581e+00 -4.16939873e+00\n",
      " -1.45005362e+01 -4.93550868e+00  1.09192990e+01  1.31633396e+01\n",
      "  6.57249519e+00 -2.94816277e-01 -9.65382888e+00 -1.40624448e+01\n",
      " -5.77224630e+00  1.75265871e+01  8.30459343e+00 -1.31409005e+01\n",
      "  1.17315299e+01  2.63553938e+00  2.77324172e+01 -2.64990553e+00\n",
      "  6.63550691e+00  1.82088299e+00  4.82541563e+00  7.28774937e+00\n",
      "  1.23713488e+01  7.58313365e+00 -1.00973884e+01 -3.51202954e+00\n",
      "  1.45984514e+01  4.92688648e+00  1.03698714e+01  2.92122418e+00\n",
      "  1.46952037e+01 -2.92285176e+00 -1.80417325e+00 -1.66748992e+00\n",
      " -2.57883151e+00  2.00829415e+00 -1.57033655e+01  7.16427353e+00\n",
      " -1.58057574e+00 -2.62658357e+00 -3.40522449e+00  3.37358133e+00\n",
      " -2.70829108e+01 -4.11796581e-01  7.31148119e+00 -1.77840859e+01\n",
      "  7.37219117e+00  1.56836563e+01  9.81443288e+00 -2.17005795e+00\n",
      " -1.07241187e+01  3.11496779e-01  9.27259654e+00 -2.99521972e-01\n",
      "  6.84915143e+00 -1.49499433e+01  6.89658258e+00 -6.08895690e-01\n",
      "  6.63620972e+00 -4.09398567e+00 -4.32424852e+00 -1.13979985e+01\n",
      " -9.86274602e+00  1.55535844e+00 -8.22256395e+00  5.48829961e-01\n",
      "  1.46018935e+01  1.73029777e+01  1.20622021e+00 -2.23591160e+01\n",
      "  2.47420699e+01 -4.93053580e+00 -8.08516293e+00 -2.78603987e+01\n",
      "  9.99752453e+00  1.29652286e+01  9.16460615e+00 -5.26615549e+00\n",
      "  2.80837339e+00  1.55369288e+01  1.60142990e+01 -8.25692789e+00\n",
      "  4.13544299e+00 -3.94829222e-01 -1.69954955e+00  1.39473202e+01\n",
      "  5.19067589e-01 -4.39122496e+00  7.23173885e+00 -2.03611749e+00\n",
      " -1.08622222e+00 -1.97220725e-01 -6.94795013e+00 -1.63191325e+00\n",
      "  2.32898028e+01 -2.31567324e+00 -9.60282687e+00  2.91722022e+00\n",
      " -6.14262440e+00  4.29814963e+00  7.30923148e+00  3.18387406e+00\n",
      "  1.72903860e+00 -1.25092200e+01 -2.30339574e+01 -8.01318870e+00\n",
      " -7.80028792e-01 -1.68106495e+01  3.07669055e+00  1.46265625e+01\n",
      "  1.17188982e+01  9.31938381e+00  8.35901135e+00  1.52285379e+00\n",
      " -4.76488495e+00  2.33725340e+01  1.61752125e+01  7.86343858e+00\n",
      " -1.10509380e+01 -2.98054898e+00 -4.46202801e+00 -1.46066314e+01\n",
      " -1.51251044e+00  7.59328835e+00  1.17243541e-01  4.63241541e-01\n",
      "  1.60945079e+01  3.03049570e+00 -3.00510964e+00  1.09465057e+01\n",
      "  4.61545441e+00  2.76188841e+00 -1.33335426e+01  7.74709039e+00\n",
      "  6.30355044e+00 -1.96637824e+01 -1.17192328e+01  8.05433269e+00\n",
      " -5.79540919e+00  7.80699948e+00 -1.34960132e+01  1.28716320e+01\n",
      " -7.43189032e+00 -3.77670758e+00  6.17968058e+00 -2.16820648e+01\n",
      "  6.99479394e+00 -2.53567106e+01  7.37088140e+00  1.39011934e+01\n",
      "  7.50387903e-01  1.55624513e+01  4.79661100e-01  4.06695175e+00\n",
      " -8.60999616e+00  6.05163053e+00 -1.35795826e+01 -7.42511887e+00\n",
      " -9.24394978e+00  1.12130856e+01  1.57755958e+01  3.03504729e+00\n",
      "  3.87256381e+00 -1.02202201e+01  3.60424407e+00 -4.48793275e+00\n",
      "  1.44038080e+00 -4.36806554e+00  3.88614354e-01  5.49852488e+00\n",
      "  7.51426774e+00 -3.63366970e+01  2.62609951e+00  5.44278483e+00\n",
      "  1.16465110e+01 -2.56678110e+00  1.19028887e+01 -1.74990322e+01\n",
      "  5.08761932e+00  1.68583162e+01 -6.42983078e+00 -7.64011471e-01\n",
      " -6.30823092e-01 -1.37392221e+01 -9.69658833e+00 -2.42724183e+00\n",
      "  1.20811180e+01 -1.01902481e+01  2.06024579e+00 -2.33876637e+00\n",
      "  1.87573463e+01  1.24005708e+01 -6.55515875e+00  1.64357152e+01\n",
      "  1.75204079e+01 -1.02762674e+01  5.65163959e+00 -8.23416769e+00\n",
      "  8.33427204e+00 -4.33741477e+00  3.53054316e+00 -7.59731813e+00\n",
      "  4.22952526e+00  2.07127430e+01 -5.68483163e+00  2.10924408e+00\n",
      "  3.29561573e+00 -4.99552015e+00 -3.56128955e+00 -7.76372233e+00\n",
      "  4.40154140e+00 -3.59810698e+00 -1.17358147e+01  7.10034469e+00\n",
      "  6.37743026e+00  1.82791189e+01 -6.47997156e+00 -9.74555831e+00\n",
      "  4.35419463e+00  1.05239929e+01 -1.55221121e+01 -1.04918131e-02\n",
      "  1.14512584e+01 -7.88154983e+00 -4.55210073e+00 -8.21415266e+00\n",
      "  1.44113356e+01  2.59984055e+00 -1.44313380e+01  6.07609839e+00\n",
      " -1.22122604e+01 -1.09822731e+01  1.98032897e+01  9.90497405e+00\n",
      "  8.34540971e-01 -2.17853754e+00 -5.89219443e+00  1.68646837e+01\n",
      " -9.93167871e-01  5.88778966e+00  1.15222918e+01 -3.83593854e+00\n",
      "  3.68058468e+00  7.11096050e+00  3.89907989e+00 -5.38041952e+00\n",
      " -9.70927764e-01  8.55716247e-01 -5.57697153e+00  4.18679730e-01\n",
      "  5.94446851e+00  1.31164111e+00  1.52790155e+01  1.84352645e+01\n",
      " -2.72493721e+00 -1.12520671e+01  1.45287943e+00  9.40716852e+00\n",
      " -1.72388199e+01 -3.90190168e+00  9.40206950e-01  3.86523895e+00\n",
      "  6.35394528e+00 -7.16194050e+00  1.16142821e+01 -1.37192418e+01\n",
      "  4.57218541e+00  2.17641777e+01 -1.62719332e+01 -6.69339233e+00\n",
      " -1.64548415e+01 -2.45274425e+00  1.42740251e+00 -1.23931600e+00\n",
      "  6.63078130e-01  8.05650442e+00 -1.76359929e+00 -1.18512542e+01\n",
      "  4.95692892e+00 -9.52042834e+00  3.13002031e+00  3.34363613e+00\n",
      "  1.96897883e+01 -2.77034700e+00  1.95295285e+01 -7.49408158e+00\n",
      "  1.59436605e+00 -9.62867853e+00 -4.03107237e+00 -3.74712582e+00\n",
      " -4.34810350e+00 -4.53184705e+00  3.74585890e+00  6.23023685e-02\n",
      " -4.16907160e+00 -2.43121055e+01 -8.33736170e+00  2.61215047e+00\n",
      "  1.67267545e+01  5.16845200e+00 -9.30692643e+00  2.82817545e+01\n",
      " -7.60439811e+00  3.63985476e+00 -6.82543210e-01 -9.02923925e-01\n",
      " -8.51981547e-01  2.22452718e+00 -3.49710508e+00 -3.91270516e+00\n",
      " -4.53529930e+00  2.36555025e+00 -8.07146239e+00 -1.60094697e+00\n",
      " -1.21553417e+01  2.44071048e+00 -2.58394898e+01 -1.60624721e+01\n",
      "  9.95657228e+00  1.72983326e+00  6.96153620e+00 -8.36070966e+00\n",
      "  1.54689265e+00 -1.07748744e+01 -3.07831532e+00  1.90662327e+01\n",
      "  9.62343733e+00  5.05641950e+00 -1.91877174e+01 -8.30845922e+00\n",
      " -1.50927258e+01 -9.90131492e+00  2.89519818e+00 -6.10064711e+00\n",
      " -1.80381244e+01 -2.92905114e+00  1.49918652e+01 -7.24314720e+00\n",
      "  6.80410994e+00 -2.82004794e+00 -8.41256412e+00  1.76569920e+00\n",
      "  2.24930795e+01 -1.18232060e+00  1.62281609e+01 -1.58044897e+01\n",
      " -1.30542960e+01  4.34443240e+00  1.35590709e+01  6.56358407e+00\n",
      " -7.62069196e+00 -1.32584612e+01  4.64880047e+00 -1.70373004e+01\n",
      "  1.77713708e+01  1.36954454e+01  4.39169549e+00  2.81149557e+00\n",
      "  2.93184006e+00 -9.39623583e+00  3.33047877e-01 -4.98926538e+00\n",
      " -2.29115815e+00  1.58981523e+01 -9.99097021e+00 -2.05827307e+00\n",
      "  4.85873985e+00 -2.21869757e+00  2.66025346e+00 -7.70949465e+00\n",
      "  2.62777326e+00 -9.87552637e+00 -4.70526915e+00  4.32996200e-01\n",
      " -2.39497790e+01 -1.29221423e+01 -3.36927142e+00  5.08687704e+00\n",
      "  7.57388956e+00 -1.94891622e+01 -1.26189834e+01 -9.59993320e-01\n",
      " -1.14153088e+01 -1.27730516e+01  9.87680322e+00  1.05221788e+00\n",
      " -4.37550435e+00 -8.44632339e+00  8.63001646e+00  8.20957610e+00\n",
      " -3.04975289e+00 -3.95551129e+00  1.33176267e+01 -7.83465979e+00\n",
      "  9.04835909e+00 -5.63588829e+00  2.93037703e+00 -1.07703455e+01\n",
      " -9.82619832e+00  1.73125604e+00 -7.60137126e+00 -4.16118384e-01\n",
      "  3.54418977e+00  4.71280009e+00 -7.73534748e+00  1.00239036e+00\n",
      "  4.07172475e+00  1.00853695e+01  1.91679754e+01  5.14501265e-01\n",
      "  2.24708219e+00 -1.73475596e+00 -4.34028321e+00  3.43187193e+00\n",
      " -3.62662850e+00  9.30300717e+00  1.41543272e+01 -3.32018356e+00\n",
      "  4.17914943e+00  2.83707385e-01 -1.61667350e+01  7.10236628e-01\n",
      "  4.92606467e+00 -1.65346746e+00 -6.08258088e+00  1.73192807e+01\n",
      " -6.22442834e+00  3.88740502e+00  1.27419880e+00 -9.62781406e+00\n",
      " -5.73527246e+00 -2.96464437e-01 -1.75554776e+00 -2.78928600e+00\n",
      " -1.43731961e-01 -1.05038717e+00 -9.98248920e+00  1.17778218e+01\n",
      " -1.00475720e+01  6.85254335e+00 -4.76700609e+00 -1.45019881e+01\n",
      "  9.84730970e-01  1.04554455e+01  1.05476779e+01  7.72321716e+00\n",
      "  1.16061062e+01 -1.16884402e+01  1.35672780e+01  7.36746767e-02\n",
      "  4.22015238e+00  8.85879278e+00  1.11414682e+01  4.38956376e+00\n",
      "  1.78994310e+01  1.92033389e+01 -1.68652926e+01  1.01707842e+01\n",
      "  1.17263757e+00 -2.93070080e+00 -2.01192628e+01  3.34601781e+00\n",
      "  7.24935922e+00 -1.64457917e+01  6.05003258e+00  1.05950216e+01\n",
      "  8.69208467e+00  6.17919506e+00  2.57511232e+00 -7.36021205e+00\n",
      "  7.28034719e-01 -1.17212293e+00  4.08962970e-01 -2.88855748e-01\n",
      "  6.74830603e+00 -1.42845695e+01  1.52242075e+00  1.29155894e+01\n",
      "  1.14246706e+00  5.10450561e+00 -9.15673421e+00 -1.49248717e+00\n",
      "  1.75796413e+01  1.93958401e+01 -1.66595244e+01  1.51742861e+01\n",
      " -3.42300000e+03 -1.17695523e+01  2.00627600e-01  1.43426020e-01\n",
      "  3.88292994e+00 -2.70660064e+00  5.32212074e+00  5.44575609e+00\n",
      "  6.66499076e+00  1.14913149e+00 -2.72098863e+00  1.11171243e+01\n",
      "  6.56105894e+00  1.39260293e+01  6.17251364e+00 -1.45310471e+01\n",
      "  1.20150017e+01  7.98652445e+00  1.95389237e+01  6.15692572e+00\n",
      " -1.61136156e+01 -1.99152995e+01 -9.12601542e+00 -1.92987560e+01\n",
      "  8.55225256e+00 -1.04196437e+00 -6.91416967e+00 -1.27486022e+01\n",
      "  2.87941152e+00  3.08739654e+00 -8.09494717e+00 -9.83459695e+00\n",
      "  7.57191055e+00  1.06209096e+01  1.40398231e+01 -1.80099851e+00\n",
      " -1.47068015e+01 -1.57486803e+01 -1.19626968e+01 -9.04133018e+00\n",
      "  4.00275825e+00 -2.76341159e+00 -2.13415043e+00  1.60708105e+01\n",
      " -1.67275059e+01  6.50493424e+00 -3.12221127e+00 -1.12866356e+00\n",
      "  3.72225843e+00 -2.01730755e+00 -1.15558763e+00  5.18937050e+00\n",
      " -1.37478664e+01  2.53139179e+00  7.60220984e-01 -7.41723665e+00\n",
      " -1.14921790e+00 -5.89517345e+00 -1.06659993e+01 -4.21142669e+00\n",
      " -2.20816527e+01  9.02909443e+00 -5.64545920e+00 -7.79507921e+00\n",
      " -2.05037105e+01  9.00340335e+00 -3.08762522e+00 -4.58376175e+00\n",
      " -2.19178987e+01  2.65347296e-01  5.59892747e-01  1.49216939e+01\n",
      " -5.16061327e+00  1.28986081e-01 -5.55751052e+00  2.01789134e+00\n",
      " -1.84166154e+01 -6.25855600e+00  5.75980607e+00  4.98467857e+00\n",
      " -6.09660578e+00 -9.97798520e+00  3.39567878e+00 -2.59290071e+00\n",
      "  8.49466973e+00  2.06167890e+01  1.54244386e+01  1.33539092e+01\n",
      "  1.21801940e+01  2.74645080e-01 -1.06925489e+01 -8.40412714e+00\n",
      " -2.46830668e+00  1.22048731e+00 -5.45641382e+00 -5.33674486e+00\n",
      " -4.12733723e+00  1.46447121e+01  3.98643587e+00 -1.16549928e+01\n",
      "  3.92627814e+00 -1.17721121e+01  5.14624049e+00 -3.17628545e+00\n",
      " -7.18402110e+00  9.42021452e+00  2.38938481e-02  5.70623068e+00\n",
      " -8.93127483e+00  3.69731225e+00 -1.19440346e+01  4.59189831e+00\n",
      " -6.69448459e+00  4.89420456e+00  5.10525629e-01 -9.03478549e+00\n",
      " -1.76286785e+00 -1.20563514e+00  1.42231532e+00  4.92468400e+00\n",
      " -7.21402045e+00  7.21688009e+00  5.58426531e+00  8.25865870e+00\n",
      "  3.91925765e+00  8.50473970e+00 -4.47031117e+00 -8.34396237e+00\n",
      "  2.47207317e+00 -1.52318049e+01  1.11677393e+01  9.16185682e+00\n",
      "  1.74247628e+01 -1.45490361e+01 -7.93276096e+00  1.57257218e+01\n",
      " -6.34817121e+00 -1.20665247e+01 -1.18282271e+01  1.28748580e+01\n",
      "  2.41851177e+01 -8.25114012e+00  9.81358007e-01 -1.53175556e+01\n",
      "  1.07039012e+01 -1.04798908e+01  1.35162022e+01  1.23686346e+01\n",
      "  1.73836418e+01 -1.29099693e+00  1.62877201e+01  7.03263814e+00\n",
      "  3.18078259e+00  3.76600280e+00  5.72675983e+00  6.83912708e-01\n",
      "  8.87068014e-01 -8.36845807e+00 -1.20529953e+01 -3.93173861e-01\n",
      "  2.61185739e+01 -8.48248854e-01 -1.17117981e+00  6.78472935e+00\n",
      "  1.16578087e+01  1.48427768e+01  9.63587571e+00 -1.64712989e+01]\n",
      "############################\n",
      "-2.3861989503030703\n",
      "[ 1038. -3423.]\n"
     ]
    }
   ],
   "source": [
    "# Create an array of 10 elements with values filled as 1000\n",
    "\n",
    "values = np.random.normal(0,10, 1_000)       # Array of 1000 elements with mean of 0 and standard deviation of 10\n",
    "values[33] = 1038                   \n",
    "values[832] = -3423\n",
    "p(values)\n",
    "p(values.mean())\n",
    "\n",
    "mask = np.abs(values - values.mean()) > (2* values.std())\n",
    "print(values[mask])                             # This will give the values of outlier, basically values[33] and values[832]\n"
   ]
  },
  {
   "cell_type": "code",
   "execution_count": 52,
   "metadata": {},
   "outputs": [
    {
     "name": "stdout",
     "output_type": "stream",
     "text": [
      "############################\n",
      "[0 1 2]\n",
      "############################\n",
      "[4 5 6]\n"
     ]
    }
   ],
   "source": [
    "arr = np.arange(3)\n",
    "p(arr)\n",
    "p(arr+4)       # Added the 4 to each of the elements\n",
    "\n"
   ]
  },
  {
   "cell_type": "code",
   "execution_count": 53,
   "metadata": {},
   "outputs": [
    {
     "name": "stdout",
     "output_type": "stream",
     "text": [
      "############################\n",
      "[[0 1 2]\n",
      " [3 4 5]\n",
      " [6 7 8]]\n",
      "############################\n",
      "[0 1 2]\n",
      "############################\n",
      "[[ 0  2  4]\n",
      " [ 3  5  7]\n",
      " [ 6  8 10]]\n"
     ]
    }
   ],
   "source": [
    "# Broadcasting 1\n",
    "\n",
    "mat = np.arange(9).reshape((3,3))\n",
    "vec = np.arange(3)\n",
    "p(mat)\n",
    "p(vec)\n",
    "p(mat+vec)      # Added the vector to every row"
   ]
  },
  {
   "cell_type": "code",
   "execution_count": 54,
   "metadata": {},
   "outputs": [
    {
     "name": "stdout",
     "output_type": "stream",
     "text": [
      "############################\n",
      "[0 1 2]\n",
      "############################\n",
      "[[0]\n",
      " [1]\n",
      " [2]]\n",
      "############################\n",
      "[[0 1 2]\n",
      " [1 2 3]\n",
      " [2 3 4]]\n"
     ]
    }
   ],
   "source": [
    "# Broadcasting 2\n",
    "\n",
    "v1 = np.arange(3)\n",
    "v2 = np.arange(3).reshape((3,1))\n",
    "p(v1)\n",
    "p(v2)\n",
    "p(v1+v2)             ## Added the vector v1 to each row of v2"
   ]
  },
  {
   "cell_type": "code",
   "execution_count": 55,
   "metadata": {},
   "outputs": [
    {
     "name": "stdout",
     "output_type": "stream",
     "text": [
      "############################\n",
      "Original vector is \n",
      "[[0 1 2]\n",
      " [3 4 5]\n",
      " [6 7 8]]\n",
      "############################\n",
      "[[0 3 6]\n",
      " [1 4 7]\n",
      " [2 5 8]]\n",
      "############################\n",
      "True\n",
      "############################\n",
      "False\n"
     ]
    }
   ],
   "source": [
    "v = np.array([[0,1,2],\n",
    "              [3,4,5],\n",
    "              [6,7,8]\n",
    "              ])\n",
    "p(\"Original vector is \", v)\n",
    "p(v.T)    # T is for trnaspose Matrix, the rows would become the colums\n",
    "\n",
    "p(v.any())         # This will return true if there is atleast one element in the array which is true\n",
    "\n",
    "p(v.all())          #v.all will return True if all elements of matrix is true, else it returns false\n"
   ]
  },
  {
   "cell_type": "code",
   "execution_count": 56,
   "metadata": {},
   "outputs": [
    {
     "name": "stdout",
     "output_type": "stream",
     "text": [
      "############################\n",
      "120\n",
      "############################\n",
      "[ 4 12]\n",
      "############################\n",
      "[4 5 7]\n"
     ]
    }
   ],
   "source": [
    "v = np.array([[1,1,2],\n",
    "              [3,4,5],\n",
    "              ])\n",
    "p(v.prod())              # Product of all the elements in an array\n",
    "\n",
    "p(v.sum(axis=1))       # Sum of the rows\n",
    "p(v.sum(axis=0))       # Sum of the colums\n",
    "\n"
   ]
  },
  {
   "cell_type": "code",
   "execution_count": 57,
   "metadata": {},
   "outputs": [
    {
     "name": "stdout",
     "output_type": "stream",
     "text": [
      "############################\n",
      "[[1 1 2]\n",
      " [3 4 5]]\n",
      "############################\n",
      "[[ 1  1  2]\n",
      " [ 3  4 16]]\n"
     ]
    }
   ],
   "source": [
    "v1 = np.array([[1,1,2],\n",
    "              [3,4,5],\n",
    "              ])\n",
    "v2 = v1.copy()   # Creates a copy of the original array\n",
    "v2[1,2] = 16\n",
    "p(v1)\n",
    "p(v2)\n"
   ]
  },
  {
   "cell_type": "code",
   "execution_count": 58,
   "metadata": {},
   "outputs": [
    {
     "name": "stdout",
     "output_type": "stream",
     "text": [
      "############################\n",
      "0.8939966636005579\n"
     ]
    }
   ],
   "source": [
    "x = np.sin(90)  # This 90 is in radian not degree\n",
    "p(x)\n"
   ]
  },
  {
   "cell_type": "code",
   "execution_count": 62,
   "metadata": {},
   "outputs": [
    {
     "name": "stdout",
     "output_type": "stream",
     "text": [
      "[[ 0.84147098  0.84147098  0.90929743]\n",
      " [ 0.14112001 -0.7568025  -0.95892427]]\n",
      "############################\n",
      "[[ 0.84147098  0.84147098  0.90929743]\n",
      " [ 0.14112001 -0.7568025  -0.95892427]]\n"
     ]
    }
   ],
   "source": [
    "n = np.arange(-3,3)     # Run the sine function on a vector\n",
    "print(np.sin(v))\n"
   ]
  },
  {
   "cell_type": "code",
   "execution_count": 63,
   "metadata": {},
   "outputs": [
    {
     "name": "stdout",
     "output_type": "stream",
     "text": [
      "############################\n",
      "2\n",
      "############################\n",
      "[-3 -2 -1  0  1  2  3  4]\n",
      "############################\n",
      "[0. 0. 0. 0. 1. 2. 3. 4.]\n",
      "############################\n",
      "[-7. -7. -7. -7. -6. -5. -4. -3.]\n"
     ]
    }
   ],
   "source": [
    "@np.vectorize                 #This method would make the data extend to vector\n",
    "def relu(n):\n",
    "    if n<0:\n",
    "        return 0.0\n",
    "    return n\n",
    "\n",
    "p(relu(2))\n",
    "\n",
    "v1 = np.arange(-3,5)\n",
    "p(v1)\n",
    "\n",
    "p(relu(v1))\n",
    "p(relu(v1)-7)         # This will remove -7 from vector(i.e, each component of the vector)\n"
   ]
  },
  {
   "cell_type": "code",
   "execution_count": 64,
   "metadata": {},
   "outputs": [],
   "source": [
    "\n",
    "#Pearson Correlation\n",
    "\n",
    "def correlation_coefficient(data1, data2):\n",
    "  \"\"\"\n",
    "  Calculates the correlation coefficient between two lists of data.\n",
    "\n",
    "  Args:\n",
    "    data1: The first list of data.\n",
    "    data2: The second list of data.\n",
    "\n",
    "  Returns:\n",
    "    The correlation coefficient between the two lists of data.\n",
    "  \"\"\"\n",
    "\n",
    "  mean1 = np.mean(data1)\n",
    "  mean2 = np.mean(data2)\n",
    "  std1 = np.std(data1)\n",
    "  std2 = np.std(data2)\n",
    "\n",
    "  covariance = np.sum((data1 - mean1)*(data2 - mean2)) / len(data1)\n",
    "  correlation = covariance / (std1 * std2)\n",
    "\n",
    "  return correlation"
   ]
  },
  {
   "cell_type": "code",
   "execution_count": null,
   "metadata": {},
   "outputs": [],
   "source": []
  }
 ],
 "metadata": {
  "kernelspec": {
   "display_name": "Python 3",
   "language": "python",
   "name": "python3"
  },
  "language_info": {
   "codemirror_mode": {
    "name": "ipython",
    "version": 3
   },
   "file_extension": ".py",
   "mimetype": "text/x-python",
   "name": "python",
   "nbconvert_exporter": "python",
   "pygments_lexer": "ipython3",
   "version": "3.11.8"
  }
 },
 "nbformat": 4,
 "nbformat_minor": 2
}
