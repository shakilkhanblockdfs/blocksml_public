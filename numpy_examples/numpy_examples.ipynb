{
 "cells": [
  {
   "cell_type": "code",
   "execution_count": 1,
   "metadata": {},
   "outputs": [],
   "source": [
    "import numpy as np"
   ]
  },
  {
   "cell_type": "markdown",
   "metadata": {},
   "source": [
    "Numpy Reference Doc\n",
    "https://numpy.org/doc/stable/reference/index.html"
   ]
  },
  {
   "cell_type": "code",
   "execution_count": 2,
   "metadata": {},
   "outputs": [
    {
     "name": "stdout",
     "output_type": "stream",
     "text": [
      "<class 'numpy.ndarray'>\n"
     ]
    }
   ],
   "source": [
    "np_array =np.array(\"hello\")\n",
    "print(type(np_array))"
   ]
  },
  {
   "cell_type": "code",
   "execution_count": 3,
   "metadata": {},
   "outputs": [
    {
     "data": {
      "text/plain": [
       "array('hello', dtype='<U5')"
      ]
     },
     "execution_count": 3,
     "metadata": {},
     "output_type": "execute_result"
    }
   ],
   "source": [
    "np_array"
   ]
  },
  {
   "cell_type": "code",
   "execution_count": 4,
   "metadata": {},
   "outputs": [
    {
     "data": {
      "text/plain": [
       "array([0, 1, 2, 3, 4, 5, 6, 7, 8, 9])"
      ]
     },
     "execution_count": 4,
     "metadata": {},
     "output_type": "execute_result"
    }
   ],
   "source": [
    "# Returns evenly spaced values\n",
    "np_array = np.arange(0,10)\n",
    "np_array"
   ]
  },
  {
   "cell_type": "code",
   "execution_count": 5,
   "metadata": {},
   "outputs": [
    {
     "data": {
      "text/plain": [
       "array([0. , 0.5, 1. , 1.5, 2. , 2.5, 3. , 3.5, 4. , 4.5, 5. , 5.5, 6. ,\n",
       "       6.5, 7. , 7.5, 8. , 8.5, 9. , 9.5])"
      ]
     },
     "execution_count": 5,
     "metadata": {},
     "output_type": "execute_result"
    }
   ],
   "source": [
    "# Returns evenly spaced values, but by 0.5\n",
    "np_array = np.arange(0,10, 0.5)\n",
    "np_array"
   ]
  },
  {
   "cell_type": "code",
   "execution_count": 6,
   "metadata": {},
   "outputs": [
    {
     "name": "stdout",
     "output_type": "stream",
     "text": [
      "[10. 11. 12. 13. 14. 15. 16. 17. 18. 19. 20.]\n",
      "10.0\n",
      "11.0\n",
      "12.0\n",
      "13.0\n",
      "14.0\n",
      "15.0\n",
      "16.0\n",
      "17.0\n",
      "18.0\n",
      "19.0\n",
      "20.0\n"
     ]
    }
   ],
   "source": [
    "# In summary, use arange when you need to specify a start, stop, and step size, and use linspace when you need a specific number of points evenly spaced within an interval.\n",
    "# But both can do the same thing, its just preference\n",
    "np_array = np.linspace(10,20,11)\n",
    "print(np_array)\n",
    "\n",
    "# Iterating over the array\n",
    "for i in np_array:\n",
    "    print(i)"
   ]
  },
  {
   "cell_type": "code",
   "execution_count": 7,
   "metadata": {},
   "outputs": [
    {
     "data": {
      "text/plain": [
       "array([[1., 1., 1., 1., 1.],\n",
       "       [1., 1., 1., 1., 1.],\n",
       "       [1., 1., 1., 1., 1.]])"
      ]
     },
     "execution_count": 7,
     "metadata": {},
     "output_type": "execute_result"
    }
   ],
   "source": [
    "np_matrix_ones = np.ones([3,5])          # 3 row and 5 column matrix with all ones\n",
    "np_matrix_ones"
   ]
  },
  {
   "cell_type": "code",
   "execution_count": 8,
   "metadata": {},
   "outputs": [
    {
     "data": {
      "text/plain": [
       "array([[0., 0., 0., 0.],\n",
       "       [0., 0., 0., 0.]])"
      ]
     },
     "execution_count": 8,
     "metadata": {},
     "output_type": "execute_result"
    }
   ],
   "source": [
    "np_matrix_zeroes = np.zeros([2,4])          # 2 row and 4 column matrix with all zeroes\n",
    "np_matrix_zeroes\n",
    "\n"
   ]
  },
  {
   "cell_type": "code",
   "execution_count": 9,
   "metadata": {},
   "outputs": [
    {
     "data": {
      "text/plain": [
       "array([[0, 0, 0, 0],\n",
       "       [0, 0, 0, 0]])"
      ]
     },
     "execution_count": 9,
     "metadata": {},
     "output_type": "execute_result"
    }
   ],
   "source": [
    "np_matrix_zeroes = np.zeros([2,4], dtype=int)          # 2 row and 4 column matrix with all zeroes and type integer\n",
    "np_matrix_zeroes"
   ]
  },
  {
   "cell_type": "code",
   "execution_count": 10,
   "metadata": {},
   "outputs": [
    {
     "data": {
      "text/plain": [
       "array([[1., 0., 0., 0., 0.],\n",
       "       [0., 1., 0., 0., 0.],\n",
       "       [0., 0., 1., 0., 0.],\n",
       "       [0., 0., 0., 1., 0.],\n",
       "       [0., 0., 0., 0., 1.]])"
      ]
     },
     "execution_count": 10,
     "metadata": {},
     "output_type": "execute_result"
    }
   ],
   "source": [
    "#  np.eye returns only the square matrix\n",
    "np_idendity_matrix = np.eye(5)      # idendity Matrix of 5X5. It has all diagonals as one.\n",
    "np_idendity_matrix"
   ]
  },
  {
   "cell_type": "code",
   "execution_count": 11,
   "metadata": {},
   "outputs": [
    {
     "name": "stdout",
     "output_type": "stream",
     "text": [
      "[[0 1 2 3 4]\n",
      " [5 6 7 8 9]]\n"
     ]
    }
   ],
   "source": [
    "arr = np.arange(0,10)                    # Reshaped a linear list of data to 2X5 Matrix\n",
    "arr_reshape = arr.reshape(2,5)\n",
    "print(arr_reshape)"
   ]
  },
  {
   "cell_type": "code",
   "execution_count": 12,
   "metadata": {},
   "outputs": [
    {
     "name": "stdout",
     "output_type": "stream",
     "text": [
      "0.5000001943375613\n",
      "0.8660252915835662\n",
      "0.5773505683919328\n",
      "1.5707963267948966\n"
     ]
    }
   ],
   "source": [
    "## Trigonometric functions\n",
    "print(np.sin(0.523599))           # 0.523599 radian is 30 degree\n",
    "print(np.cos(0.523599))\n",
    "print(np.tan(0.523599))\n",
    "print(np.pi/2)"
   ]
  },
  {
   "cell_type": "code",
   "execution_count": 13,
   "metadata": {},
   "outputs": [
    {
     "name": "stdout",
     "output_type": "stream",
     "text": [
      "7.38905609893065\n",
      "0.6931471805599453\n",
      "2.0\n",
      "[  7.3890561   54.59815003 403.42879349]\n"
     ]
    }
   ],
   "source": [
    "print(np.exp(2))         # this is equal to (e**2)       \n",
    "print(np.log(2))         # Log of 2 with base e.\n",
    "print(np.log10(100))     # Log 100 with base 2\n",
    "#  The number e, also known as Euler's number, is a mathematical constant approximately equal to 2.71828 \n",
    "#  that can be characterized in many ways. It is the base ...\n",
    "array = np.array([2,4,6])\n",
    "print(np.exp(array))           # This will print e**2, e**4, e**6"
   ]
  },
  {
   "cell_type": "code",
   "execution_count": 14,
   "metadata": {},
   "outputs": [
    {
     "name": "stdout",
     "output_type": "stream",
     "text": [
      "[[ 1  2  3  4  5]\n",
      " [ 6  7  8  9 10]]\n",
      "[[12 13 14 15 16]\n",
      " [17 18 19 20 21]]\n",
      "[[13 15 17 19 21]\n",
      " [23 25 27 29 31]]\n",
      "[[ 12  26  42  60  80]\n",
      " [102 126 152 180 210]]\n",
      "[[-11 -11 -11 -11 -11]\n",
      " [-11 -11 -11 -11 -11]]\n"
     ]
    }
   ],
   "source": [
    "# Normal Matrix multiplication and addition are performed column wise\n",
    "\n",
    "arr1 = np.arange(1,11).reshape(2,5)\n",
    "print(arr1)\n",
    "arr2 = np.arange(12,22).reshape(2,5)\n",
    "print(arr2)\n",
    "print(arr1+arr2)         # Operations are columnwise of matrix\n",
    "print(arr1*arr2)         # Operations are columnwise of matrix\n",
    "print(arr1-arr2)"
   ]
  },
  {
   "cell_type": "code",
   "execution_count": 15,
   "metadata": {},
   "outputs": [
    {
     "name": "stdout",
     "output_type": "stream",
     "text": [
      "[[ 1  2  3  4  5]\n",
      " [ 6  7  8  9 10]]\n",
      "[[12 13 14]\n",
      " [15 16 17]\n",
      " [18 19 20]\n",
      " [21 22 23]\n",
      " [24 25 26]]\n",
      "---------------------\n",
      "[[300 315 330]\n",
      " [750 790 830]]\n",
      "[[ 0  1  2  3]\n",
      " [ 4  5  6  7]\n",
      " [ 8  9 10 11]]\n",
      "[[ 0  4  8]\n",
      " [ 1  5  9]\n",
      " [ 2  6 10]\n",
      " [ 3  7 11]]\n"
     ]
    }
   ],
   "source": [
    "##### Linear algebra Matrix multiplication\n",
    "\n",
    "arr1 = np.arange(1,11).reshape(2,5)\n",
    "print(arr1)\n",
    "arr2 = np.arange(12,27).reshape(5,3)\n",
    "print(arr2)\n",
    "print(\"---------------------\")\n",
    "print(arr1 @ arr2)                 ## This will do the actual matrix dot mult\n",
    "\n",
    "# Transpose a matrix. Flip rows to columns\n",
    "\n",
    "arr1 = np.arange(0,12).reshape(3,4)\n",
    "print(arr1)\n",
    "print(np.transpose(arr1))"
   ]
  },
  {
   "cell_type": "code",
   "execution_count": 16,
   "metadata": {},
   "outputs": [
    {
     "name": "stdout",
     "output_type": "stream",
     "text": [
      "[[ 0  4  8]\n",
      " [ 1  5  9]\n",
      " [ 2  6 10]\n",
      " [ 3  7 11]]\n"
     ]
    }
   ],
   "source": [
    "# We can do transpose in another way as\n",
    "print(arr1.T)  ## Shirt hand notation of Matrix transpose"
   ]
  },
  {
   "cell_type": "code",
   "execution_count": 17,
   "metadata": {},
   "outputs": [
    {
     "name": "stdout",
     "output_type": "stream",
     "text": [
      "[[ 0  1  2  3]\n",
      " [ 4  5  6  7]\n",
      " [ 8  9 10 11]]\n",
      "0\n",
      "11\n"
     ]
    }
   ],
   "source": [
    "# min and Maximum in a numpy\n",
    "arr1 = np.arange(0,12).reshape(3,4)\n",
    "print(arr1)\n",
    "print(np.min(arr1))\n",
    "print(np.max(arr1))"
   ]
  },
  {
   "cell_type": "code",
   "execution_count": 18,
   "metadata": {},
   "outputs": [
    {
     "name": "stdout",
     "output_type": "stream",
     "text": [
      "[0.6093368  0.19358371 0.27049078 0.56950041 0.32521272]\n",
      "[[0.39301306 0.85951581 0.09496741 0.22880967 0.34782071]\n",
      " [0.99136077 0.09589797 0.3044111  0.14345869 0.07967793]\n",
      " [0.89794665 0.4887547  0.78597658 0.12500658 0.17539715]\n",
      " [0.96030815 0.61911287 0.91712319 0.32166589 0.27219541]\n",
      " [0.1842632  0.25214456 0.50970878 0.57745852 0.8072346 ]]\n",
      "[-0.10041548 -2.09097659  0.27802111  0.08071732 -0.59944719]\n",
      "[[-1.91198408e+00 -4.02417445e-01  7.94692564e-01 -6.36338301e-01\n",
      "  -1.28363193e+00]\n",
      " [ 2.02803525e+00 -1.03006329e+00  4.18219937e-02  1.97981469e-01\n",
      "  -7.38805277e-01]\n",
      " [ 6.69505210e-04  9.09195139e-01  1.07274881e+00 -1.59120085e+00\n",
      "  -1.58618071e+00]\n",
      " [ 1.65879183e+00  8.06304675e-01 -1.65225670e+00  6.69146516e-01\n",
      "   1.83749944e-01]\n",
      " [ 3.41293399e-01 -1.05824847e+00 -4.95250809e-01  6.16262614e-01\n",
      "   2.92900034e-01]]\n",
      "-0.48642016671155003\n",
      "0.8535093973146061\n",
      "[2 4 4 2 1 1 4 4 1 1]\n"
     ]
    }
   ],
   "source": [
    "# Random Value generations\n",
    "print(np.random.rand(5)) # Create a single dimensional array of 5 elements with random values between 0 - 1 \n",
    "print(np.random.rand(5,5))  # Create a 5X5 matrix of random number with values from 0 - 1\n",
    "\n",
    "# randn creates a random number whose samples are drawn from normal distribution(Whose mean is 0 and standard deviation as 1)\n",
    "arr1 = np.random.randn(5)\n",
    "arr2 = np.random.randn(5,5) # Same as above but genarated 5X5 \n",
    "print(arr1)\n",
    "print(arr2)\n",
    "print(np.mean(arr1))            #   Mean would be closer to 0\n",
    "print(np.std(arr1))             #   Standard deviation would be 1\n",
    "\n",
    "# Creates a 10 random number between 1 and 5(not including 5)\n",
    "print(np.random.randint(1, 5, 10))  # low, high, number of random numbers.\n"
   ]
  },
  {
   "cell_type": "code",
   "execution_count": 19,
   "metadata": {},
   "outputs": [
    {
     "name": "stdout",
     "output_type": "stream",
     "text": [
      "[3 5 7 9]\n",
      "[-0.67935441 -0.94699513 -0.03556146 -1.55845546]\n"
     ]
    }
   ],
   "source": [
    "# Accessing elements from the np array\n",
    "\n",
    "print(np.arange(3, 10, 2))      # Range of numbers from 3-10 and step size of 2. The indices are 3,5,7,9\n",
    "indices = np.arange(3, 10, 2)   # The indices are 3,5,7,9 \n",
    "# Now let suppose we have a numpy array\n",
    "arr1 = np.random.randn(50)\n",
    "print(arr1[indices]) # Since indices are 3,5,7,9 so from arr1 get the values located at indices 3,5,7,9\n"
   ]
  },
  {
   "cell_type": "code",
   "execution_count": 20,
   "metadata": {},
   "outputs": [
    {
     "name": "stdout",
     "output_type": "stream",
     "text": [
      "[-2.08260479 -1.73761234 -0.31644821 -0.34564064 -0.86613989  0.67590043\n",
      "  0.71156837 -1.03157006  0.72296005  0.2681038  -0.16697987  1.22753761\n",
      " -2.00816139  0.92528609 -0.54880052  0.83812129  1.02543434 -1.28264228\n",
      " -0.58581246 -1.19002016  0.18388063  0.32535094  0.42201131  0.78312609\n",
      "  0.33903895  0.78704345 -1.76829494  0.6717475   1.44971956 -0.5436613\n",
      " -1.186082    0.94335984  0.72752433 -0.76555821  0.19080179 -1.09537862\n",
      "  1.06337208 -0.54248374  0.04731232  0.55062739 -1.90574025 -0.0959779\n",
      "  1.09353056 -0.14916429 -0.71785396  1.40694036 -0.91402769 -0.08099708\n",
      "  2.21688896 -0.80086061]\n",
      "[0.67590043 0.71156837 0.72296005 0.2681038  1.22753761 0.92528609\n",
      " 0.83812129 1.02543434 0.18388063 0.32535094 0.42201131 0.78312609\n",
      " 0.33903895 0.78704345 0.6717475  1.44971956 0.94335984 0.72752433\n",
      " 0.19080179 1.06337208 0.04731232 0.55062739 1.09353056 1.40694036\n",
      " 2.21688896]\n",
      "[-2.08260479 -1.73761234 -0.31644821 -0.34564064 -0.86613989 -1.03157006\n",
      " -0.16697987 -2.00816139 -0.54880052 -1.28264228 -0.58581246 -1.19002016\n",
      " -1.76829494 -0.5436613  -1.186082   -0.76555821 -1.09537862 -0.54248374\n",
      " -1.90574025 -0.0959779  -0.14916429 -0.71785396 -0.91402769 -0.08099708\n",
      " -0.80086061]\n"
     ]
    }
   ],
   "source": [
    "# Choosing the elements of array based on certain condition\n",
    "arr = np.random.randn(50)\n",
    "print(arr)\n",
    "# Now let suppose we want only those elemnts which are greater than 0 in array arr then we can say\n",
    "print(arr[arr>0])        # Filter data which are greater than Zero\n",
    "# Similarly for numbers less than zero we can say\n",
    "print(arr[arr<0])       # Filter data which are lesser than Zero  "
   ]
  },
  {
   "cell_type": "code",
   "execution_count": 21,
   "metadata": {},
   "outputs": [
    {
     "name": "stdout",
     "output_type": "stream",
     "text": [
      "[4 2 2 2 2 6 1]\n"
     ]
    }
   ],
   "source": [
    "# Below code would replace all elements greater than 6 with 2, remainder of the element in array will remain as it is\n",
    "vec1 = np.array([4, 7, 8, 9, 10, 6, 1])\n",
    "vec1[vec1>6] = 2\n",
    "print(vec1)"
   ]
  },
  {
   "cell_type": "code",
   "execution_count": 22,
   "metadata": {},
   "outputs": [
    {
     "name": "stdout",
     "output_type": "stream",
     "text": [
      "[47 32 24 33 38 13 40 24 17  2 40 34  5 30 28 19 14 11 10 38]\n",
      "[[47 32 24 33]\n",
      " [38 13 40 24]\n",
      " [17  2 40 34]\n",
      " [ 5 30 28 19]\n",
      " [14 11 10 38]]\n",
      "40\n",
      "40\n",
      "[38 13 40 24]\n",
      "[[  47   32   24   33]\n",
      " [-100 -100   40   24]\n",
      " [-100 -100   40   34]\n",
      " [   5   30   28   19]\n",
      " [  14   11   10   38]]\n",
      "[[0 0 0 0]\n",
      " [0 0 0 0]\n",
      " [0 0 0 0]\n",
      " [0 0 0 0]\n",
      " [0 0 0 0]]\n"
     ]
    }
   ],
   "source": [
    "arr = np.random.randint(0, 50, 20)    # Low, high, number of random number\n",
    "print(arr)\n",
    "new_arr = arr.reshape((5,4))\n",
    "print(new_arr)\n",
    "\n",
    "# Now in order to access a specific element let suppose  2nd row and 3rd element we can say\n",
    "print(new_arr[1,2])          # We can access in this way the element at indices 1 and 2 and also as shotcut in below\n",
    "print(new_arr[1][2])    \n",
    "\n",
    "print(new_arr[1])           # Print all the elements of row index 1\n",
    "\n",
    "new_arr[1:3, 0:2] = -100       # Changes the elements from \"row 1 till 2(Not including 3)\" and from column 0 till \n",
    "print(new_arr)\n",
    "\n",
    "new_arr[:] = 0\n",
    "print(new_arr)         # Change all rows and columns to 0"
   ]
  },
  {
   "cell_type": "code",
   "execution_count": 23,
   "metadata": {},
   "outputs": [
    {
     "name": "stdout",
     "output_type": "stream",
     "text": [
      "[[18 45 35 20]\n",
      " [ 0 22  0 37]\n",
      " [ 9 42 43 16]\n",
      " [ 9 14 35 29]\n",
      " [32 27  2  2]]\n",
      "[ 9 42 43]\n",
      "[0 0 0]\n",
      "[[18 45 35 20]\n",
      " [ 0 22  0 37]\n",
      " [ 0  0  0 16]\n",
      " [ 9 14 35 29]\n",
      " [32 27  2  2]]\n"
     ]
    }
   ],
   "source": [
    "# Copy method to create a new copy of array instead of reference to original array\n",
    "\n",
    "arr = np.random.randint(0, 50, 20).reshape(5,4)    # Low, high, number of random number\n",
    "print(arr)\n",
    "sub_array = arr[2,0:3]\n",
    "print(sub_array)\n",
    "sub_array[:] = 0 \n",
    "print(sub_array)\n",
    "print(arr)            # Note original array also got modified with zeroes for 3rd row and 0-3 columns\n"
   ]
  },
  {
   "cell_type": "code",
   "execution_count": 24,
   "metadata": {},
   "outputs": [
    {
     "name": "stdout",
     "output_type": "stream",
     "text": [
      "[25 41 34]\n",
      "[0 0 0]\n",
      "[[24 26 22 21]\n",
      " [46 12 21 21]\n",
      " [25 41 34 31]\n",
      " [43 34 10  9]\n",
      " [41  0  1 20]]\n"
     ]
    }
   ],
   "source": [
    "# If we dont want reference or tie up between original array and new subarray we can use copy method\n",
    "\n",
    "arr = np.random.randint(0, 50, 20).reshape(5,4)    # Low, high, number of random number\n",
    "sub_array = arr[2,0:3].copy()\n",
    "print(sub_array)\n",
    "sub_array[:] = 0 \n",
    "print(sub_array)\n",
    "print(arr)            # Note original array also got modified with zeroes for 3rd row and 0-3 columns\n"
   ]
  },
  {
   "cell_type": "code",
   "execution_count": 25,
   "metadata": {},
   "outputs": [
    {
     "name": "stdout",
     "output_type": "stream",
     "text": [
      "[[15 16]\n",
      " [17 18]\n",
      " [19 20]\n",
      " [21 22]\n",
      " [23 24]]\n",
      "[[15 16]\n",
      " [17 18]\n",
      " [19 20]\n",
      " [21 22]\n",
      " [23 24]]\n"
     ]
    }
   ],
   "source": [
    "##########################################################\n",
    "# saving the np data\n",
    "arr = np.arange(15,25).reshape(5,2)\n",
    "print(arr)\n",
    "np.save(\"np_saved_data\", arr)\n",
    "loaded_arr = np.load(\"./np_saved_data.npy\")\n",
    "print(loaded_arr)"
   ]
  },
  {
   "cell_type": "code",
   "execution_count": 26,
   "metadata": {},
   "outputs": [
    {
     "name": "stdout",
     "output_type": "stream",
     "text": [
      "[[15 16]\n",
      " [17 18]\n",
      " [19 20]\n",
      " [21 22]\n",
      " [23 24]]\n",
      "[[25 26 27 28 29]\n",
      " [30 31 32 33 34]]\n"
     ]
    }
   ],
   "source": [
    "# saving multiple data in one file using np.savez\n",
    "# and loading multiple arrays back from file\n",
    "arr1 = np.arange(15,25).reshape(5,2) \n",
    "arr2 = np.arange(25,35).reshape(2,5) \n",
    "np.savez(\"np_saved_ez\", arr1, arr2)\n",
    "loaded_array = np.load(\"np_saved_ez.npz\")\n",
    "arr_1 = np.load(\"np_saved_ez.npz\")\n",
    "print(loaded_array[\"arr_0\"])\n",
    "print(loaded_array[\"arr_1\"])"
   ]
  },
  {
   "cell_type": "code",
   "execution_count": 27,
   "metadata": {},
   "outputs": [
    {
     "name": "stdout",
     "output_type": "stream",
     "text": [
      "[[15 16]\n",
      " [17 18]\n",
      " [19 20]\n",
      " [21 22]\n",
      " [23 24]]\n"
     ]
    },
    {
     "name": "stderr",
     "output_type": "stream",
     "text": [
      "/var/folders/xv/mx7fpfds1nb2h2ps9fxzf1180000gn/T/ipykernel_67323/3594553886.py:4: DeprecationWarning: loadtxt(): Parsing an integer via a float is deprecated.  To avoid this warning, you can:\n",
      "    * make sure the original data is stored as integers.\n",
      "    * use the `converters=` keyword argument.  If you only use\n",
      "      NumPy 1.23 or later, `converters=float` will normally work.\n",
      "    * Use `np.loadtxt(...).astype(np.int64)` parsing the file as\n",
      "      floating point and then convert it.  (On all NumPy versions.)\n",
      "  (Deprecated NumPy 1.23)\n",
      "  arr1 = np.loadtxt(\"np_save.txt\", delimiter = \",\", dtype=int)\n"
     ]
    }
   ],
   "source": [
    "# Saving and loading the numpy array in a textfile and loading it back\n",
    "arr1 = np.arange(15,25, dtype = int).reshape(5,2) \n",
    "np.savetxt(\"np_save.txt\", arr1, delimiter=\",\")\n",
    "arr1 = np.loadtxt(\"np_save.txt\", delimiter = \",\", dtype=int)\n",
    "print(arr1)"
   ]
  },
  {
   "cell_type": "code",
   "execution_count": 28,
   "metadata": {},
   "outputs": [
    {
     "name": "stdout",
     "output_type": "stream",
     "text": [
      "[0 1 2 3 4 5 6 7 8 9]\n",
      "(10,)\n",
      "------------\n",
      "[ 0  2  4  6  8 10]\n",
      "(6,)\n",
      "[0. 0. 0. 0. 0.]\n",
      "(5,)\n",
      "---------------------\n",
      "[[0. 0. 0. 0.]\n",
      " [0. 0. 0. 0.]\n",
      " [0. 0. 0. 0.]\n",
      " [0. 0. 0. 0.]\n",
      " [0. 0. 0. 0.]]\n",
      "(5, 4)\n",
      "---------------------\n",
      "[[8 8 8 8]\n",
      " [8 8 8 8]\n",
      " [8 8 8 8]\n",
      " [8 8 8 8]\n",
      " [8 8 8 8]]\n",
      "(5, 4)\n"
     ]
    }
   ],
   "source": [
    "\n",
    "a1 = np.arange(10)\n",
    "print(a1) \n",
    "print(a1.shape)\n",
    "\n",
    "print('------------')\n",
    "## Provide the step size of 2\n",
    "a2 = np.arange(0,11,2)      ##2,2,4,6,8,10\n",
    "print(a2) \n",
    "print(a2.shape)             ##\n",
    "\n",
    "a3 = np.zeros(5)\n",
    "print(a3)\n",
    "print(a3.shape)\n",
    "\n",
    "\n",
    "print('---------------------')\n",
    "a4 = np.zeros((5,4))    # Two dimensional array with 5 rows and 4 columns\n",
    "print(a4)\n",
    "print(a4.shape)\n",
    "\n",
    "\n",
    "print('---------------------')\n",
    "a5 = np.full((5,4),8)    # Two dimensional array with 5 rows and 4 columns and filled with all 8\n",
    "print(a5)\n",
    "print(a5.shape)"
   ]
  },
  {
   "cell_type": "code",
   "execution_count": 29,
   "metadata": {},
   "outputs": [
    {
     "name": "stdout",
     "output_type": "stream",
     "text": [
      "-------------------\n",
      "[[1. 0. 0. 0.]\n",
      " [0. 1. 0. 0.]\n",
      " [0. 0. 1. 0.]\n",
      " [0. 0. 0. 1.]]\n"
     ]
    }
   ],
   "source": [
    "\n",
    "###Identity Matrix\n",
    "print(\"-------------------\")\n",
    "a6 = np.eye(4)  # Creates an identity matrix of 4X4 with all diagoanal element as 1\n",
    "print(a6)\n"
   ]
  },
  {
   "cell_type": "code",
   "execution_count": 30,
   "metadata": {},
   "outputs": [
    {
     "name": "stdout",
     "output_type": "stream",
     "text": [
      "-------------------\n",
      "[[0.26010005 0.78905584 0.37305307 0.98139327]\n",
      " [0.08199725 0.18248645 0.31163658 0.55661461]]\n",
      "[1 2 3 4 5]\n",
      "------------------\n"
     ]
    }
   ],
   "source": [
    "\n",
    "## Array filled with random number\n",
    "print(\"-------------------\")\n",
    "a7 = np.random.random((2,4))\n",
    "print(a7)\n",
    "\n",
    "# Create a numpy array from python list\n",
    "list1 = [1,2,3,4,5]\n",
    "r1 = np.array(list1)\n",
    "print(r1)\n",
    "\n",
    "\n",
    "## Creating and accessing a two dimensional array\n",
    "print('------------------')\n",
    "#a4 = np.zeros((5,4))    # Two dimensional array with 5 rows and 4 columns"
   ]
  },
  {
   "cell_type": "code",
   "execution_count": 31,
   "metadata": {},
   "outputs": [
    {
     "name": "stdout",
     "output_type": "stream",
     "text": [
      "[[0.71425724 0.56043085 0.45165236 0.8289462 ]\n",
      " [0.41580187 0.71636254 0.65496841 0.31098382]\n",
      " [0.46817073 0.1715714  0.55556693 0.50547005]\n",
      " [0.15201004 0.34228324 0.24780515 0.92330202]\n",
      " [0.67837275 0.71261094 0.31305066 0.07429533]]\n",
      "(5, 4)\n",
      "------------------\n",
      "[0.71425724 0.56043085 0.45165236 0.8289462 ]\n",
      "[0.41580187 0.71636254 0.65496841 0.31098382]\n",
      "[0.46817073 0.1715714  0.55556693 0.50547005]\n",
      "[0.15201004 0.34228324 0.24780515 0.92330202]\n",
      "[0.67837275 0.71261094 0.31305066 0.07429533]\n",
      "0.46817072720704944\n",
      "0.17157139795151\n"
     ]
    }
   ],
   "source": [
    "a4 = np.random.random((5,4) )    # Two dimensional array with 5 rows and 4 columns\n",
    "\n",
    "print(a4)\n",
    "print(a4.shape)\n",
    "\n",
    "print('------------------')\n",
    "for x in range(len(a4)):\n",
    "    print(a4[x])\n",
    "\n",
    "print(a4[2][0])\n",
    "print(a4[2][1])"
   ]
  },
  {
   "cell_type": "code",
   "execution_count": 32,
   "metadata": {},
   "outputs": [
    {
     "name": "stdout",
     "output_type": "stream",
     "text": [
      "[False  True False  True False  True False  True False  True]\n",
      "[1 3 5 7 9]\n",
      "0.5000001943375613\n",
      "[-0.98803162 -0.30481062  0.58061118 -0.80115264]\n"
     ]
    }
   ],
   "source": [
    "### print odd number using boolen indexing in numpy\n",
    "import numpy as np\n",
    "import time\n",
    "\n",
    "a = np.arange(10)\n",
    "print(a%2 == 1)\n",
    "odd_num = a[a%2 == 1]\n",
    "print(odd_num)\n",
    "\n",
    "\n",
    "def p(*args):\n",
    "    print(\"############################\")\n",
    "    for arg in args:\n",
    "        print(arg)\n",
    "\n",
    "print(np.sin(0.523599))\n",
    "\n",
    "print(np.sin(np.array([30,60,120,180])))"
   ]
  },
  {
   "cell_type": "code",
   "execution_count": 33,
   "metadata": {},
   "outputs": [
    {
     "name": "stdout",
     "output_type": "stream",
     "text": [
      "2\n"
     ]
    }
   ],
   "source": [
    "x1 = np.array([1,2,3,4])\n",
    "print(x1[1])"
   ]
  },
  {
   "cell_type": "code",
   "execution_count": 34,
   "metadata": {},
   "outputs": [
    {
     "name": "stdout",
     "output_type": "stream",
     "text": [
      "int64\n",
      "int32\n"
     ]
    }
   ],
   "source": [
    "x2 = np.array([4,3,1,2], dtype=np.int32)\n",
    "print(x1.dtype)\n",
    "print(x2.dtype)\n"
   ]
  },
  {
   "cell_type": "code",
   "execution_count": 35,
   "metadata": {},
   "outputs": [
    {
     "name": "stdout",
     "output_type": "stream",
     "text": [
      "[4 6 3 8]\n"
     ]
    }
   ],
   "source": [
    "print(x1*x2)  # Array of element wise multiplication  1*4, 2*3, 3*1, 4*2\n"
   ]
  },
  {
   "cell_type": "code",
   "execution_count": 36,
   "metadata": {},
   "outputs": [
    {
     "name": "stdout",
     "output_type": "stream",
     "text": [
      "0.001085042953491211\n"
     ]
    }
   ],
   "source": [
    "# Create a random element in numpy\n",
    "\n",
    "r1= np.random.rand(1_000_000)\n",
    "r2= np.random.rand(1_000_000)\n",
    "\n",
    "start = time.time()\n",
    "x = r1 * r2\n",
    "end = time.time()\n",
    "print(end-start)\n"
   ]
  },
  {
   "cell_type": "code",
   "execution_count": 37,
   "metadata": {},
   "outputs": [
    {
     "name": "stdout",
     "output_type": "stream",
     "text": [
      "[21]\n"
     ]
    }
   ],
   "source": [
    "x1 = np.array([1,2,3,4])\n",
    "x2 = np.array([[4],[3],[1],[2]])\n",
    "\n",
    "print(x1 @ x2) # Scientific dot product of matrix\n",
    "# 1*4 + 2*3 + 3*1 + 4*2 = 21\n"
   ]
  },
  {
   "cell_type": "code",
   "execution_count": 38,
   "metadata": {},
   "outputs": [
    {
     "name": "stdout",
     "output_type": "stream",
     "text": [
      "[ 0  1  2  3  4  5  6  7  8  9 10 11]\n"
     ]
    }
   ],
   "source": [
    "# get a range of array similar to python range\n",
    "x = np.arange(12)\n",
    "print(x)            # Get a number from range 0 -12(not including 12)"
   ]
  },
  {
   "cell_type": "code",
   "execution_count": 39,
   "metadata": {},
   "outputs": [
    {
     "name": "stdout",
     "output_type": "stream",
     "text": [
      "[[ 0  1  2]\n",
      " [ 3  4  5]\n",
      " [ 6  7  8]\n",
      " [ 9 10 11]]\n",
      "(4, 3)\n",
      "[[ 0  3  6  9]\n",
      " [ 1  4  7 10]\n",
      " [ 2  5  8 11]]\n"
     ]
    }
   ],
   "source": [
    "# Reshap an array \n",
    "\n",
    "x = x.reshape(4,3)          # Shape it to 4 rows and 3 columns\n",
    "print(x)\n",
    "print(x.shape)              # Tells the shape of the Matrix, like 4,3 etc\n",
    "\n",
    "print(x.T)                  # Prints the transformed matrix, ROWs becomes column."
   ]
  },
  {
   "cell_type": "code",
   "execution_count": 40,
   "metadata": {},
   "outputs": [
    {
     "name": "stdout",
     "output_type": "stream",
     "text": [
      "[[ 1  2  3]\n",
      " [ 5  6  7]\n",
      " [ 3  6 -1]]\n",
      "7\n",
      "[ 3  6 -1]\n",
      "[2 6 6]\n"
     ]
    }
   ],
   "source": [
    "x= np.array([[1,2,3],[5,6,7],[3,6,-1]])\n",
    "print(x)\n",
    "\n",
    "# [[ 1  2  3]\n",
    "#  [ 5  6  7]\n",
    "#  [ 3  6 -1]]\n",
    "\n",
    "# If we need to get from second row and third element we can say\n",
    "print(x[1,2])      # this will print 7\n",
    "\n",
    "# If we need all element of 3rd row\n",
    "print(x[2,:])         # This will print 3, 6, -1\n",
    "\n",
    "# If we all all element of 2nd columns of all row we can say\n",
    "print(x[:, 1])  # This will print 2, 6, 6\n"
   ]
  },
  {
   "cell_type": "code",
   "execution_count": 41,
   "metadata": {},
   "outputs": [
    {
     "name": "stdout",
     "output_type": "stream",
     "text": [
      "############################\n",
      "[0 1 2]\n",
      "############################\n",
      "[0 2]\n",
      "############################\n",
      "[ 1  5 25]\n"
     ]
    }
   ],
   "source": [
    "# Intialize or fill an array with Another value\n",
    "\n",
    "x = np.arange(3)\n",
    "p(x)\n",
    "\n",
    "x = x[[True, False, True]]\n",
    "p(x)         # This will print the element where index was true like 0 2 in this case\n",
    "\n",
    "x =np.array([1,0,-2,5,25,0,-3]) \n",
    "p(x[x>=1])       # Gets the lcaotion of the array where it is greater than 1\n",
    "                # 1,5,25"
   ]
  },
  {
   "cell_type": "code",
   "execution_count": 42,
   "metadata": {},
   "outputs": [
    {
     "name": "stdout",
     "output_type": "stream",
     "text": [
      "[0 1 2 3 4 5 6 7 8 9]\n",
      "############################\n",
      "[0 1 8 9]\n",
      "############################\n",
      "[0 1 2 3 4 5 6 7]\n"
     ]
    }
   ],
   "source": [
    "arr = np.arange(10)\n",
    "print(arr)\n",
    "p(arr[(arr>7) |  (arr <2)])        # 0 1 8 9, prints an array 0 1 8 9\n",
    "                                    # Note we have to provide condition in bracket()\n",
    "\n",
    "p(arr[~(arr>7)])    # Print everything not greater than 7 [0,1,2,3,4,5,6,7]"
   ]
  },
  {
   "cell_type": "code",
   "execution_count": 43,
   "metadata": {},
   "outputs": [
    {
     "name": "stdout",
     "output_type": "stream",
     "text": [
      "############################\n",
      "[-8.23811427e-01 -1.83889629e+01  4.88688150e+00 -2.22971176e+01\n",
      " -7.66189664e+00  2.55610587e+00  9.94337707e+00  1.44377159e-01\n",
      " -9.42507129e+00 -6.63007607e+00 -2.64155732e+00 -1.79641055e+01\n",
      "  3.19132293e-01  4.77391877e+00 -5.24019515e+00  7.65396307e+00\n",
      "  6.00130549e+00 -8.14870193e+00 -8.33668552e+00  1.25084827e+01\n",
      " -1.26433313e+01  9.01018596e+00 -2.02766869e+00 -8.70747311e+00\n",
      " -2.96004787e+00  4.05800022e+00  8.75307384e+00  2.59570858e+00\n",
      "  9.05004879e+00  3.79990799e+00 -1.05721178e+00 -8.90836185e-01\n",
      " -2.42186226e+00  1.03800000e+03 -8.49411118e+00 -7.14692845e-01\n",
      "  6.89201226e+00  2.38801207e+01 -1.12743626e+01  9.10307268e+00\n",
      "  1.00495729e+01  1.39272288e+01  9.07910143e+00 -3.86443449e+00\n",
      "  6.99576732e+00  7.12769729e+00  7.73276333e+00  1.57593005e+01\n",
      "  1.32930724e+01 -1.12911541e+00 -7.10989195e+00 -1.02453945e+01\n",
      "  9.72231421e+00  2.23796141e+00  5.13658690e+00 -1.28252376e+01\n",
      " -1.88445713e+01  3.57760115e-02  4.35673763e+00 -8.74839115e+00\n",
      "  3.92113980e+00  6.77413744e-01  3.87948067e-01 -4.89163326e+00\n",
      " -6.96283456e+00  1.00470679e+01  6.26104395e+00 -1.60921854e+01\n",
      "  9.84726671e+00  2.16750087e+01  8.88994854e+00  3.53721975e+00\n",
      " -3.26718330e+01  9.41146867e+00  1.04199170e+01 -1.20832800e-01\n",
      " -6.84578371e+00 -1.27806184e+01 -2.87707364e+00 -1.46197708e+01\n",
      "  1.24915584e+01 -3.37845547e+00 -3.17094006e+00  1.01742148e+00\n",
      "  5.25173248e+00 -9.82272075e+00 -2.05121300e+00 -1.06004801e-01\n",
      " -8.04745063e+00 -1.00080031e+01 -6.49724956e+00  1.58909039e+01\n",
      " -1.09801654e+00 -1.66229465e+00  1.13775023e+01  9.13970540e+00\n",
      " -9.78023693e-01  3.02911163e+00 -6.03289974e+00 -5.29371802e+00\n",
      "  1.12191223e+01  1.51816408e+01 -1.51749542e+01 -2.31602938e+01\n",
      "  1.67687907e+01 -1.34363665e+01  1.87613587e+01  3.44771561e+00\n",
      "  1.14080803e+01 -6.33118173e-01  8.93741948e+00 -1.19431018e+00\n",
      "  1.72818542e+01  2.01772366e+01 -1.96172689e+00  6.14177280e+00\n",
      "  1.96389988e+00 -1.75108752e+01 -1.49151649e+01  5.51377090e-01\n",
      "  5.49195096e+00 -3.91032700e+00 -1.25491460e+01 -9.00813807e+00\n",
      "  1.59991957e+00 -1.31723038e+01  3.16687450e+00 -6.67640428e+00\n",
      "  1.47459636e+01 -8.82842018e+00 -9.06399425e+00  1.65463295e+00\n",
      " -5.05652973e+00  2.50988853e+00 -1.70250576e+00 -7.26270518e+00\n",
      " -2.43637631e+00  1.13473745e+01  6.24045862e-01 -8.75529085e+00\n",
      "  1.75687932e+01  6.50306308e+00 -4.29047379e+00  9.31386802e+00\n",
      "  6.27777169e+00  4.65691337e+00  6.53969325e+00 -4.66278829e+00\n",
      "  6.38866278e+00  7.06936754e+00  1.14303682e+01 -1.52386463e+01\n",
      "  7.35646352e+00 -1.43606636e+01  1.24670503e+01  5.27181602e+00\n",
      " -8.06629431e-01  2.10281358e+01  6.65534287e+00 -4.72935233e+00\n",
      " -1.13800582e+01 -4.38865070e-01 -2.12747911e+00  8.87616390e+00\n",
      " -8.04621040e+00 -6.05103427e+00 -1.22064315e+01 -5.54504294e+00\n",
      "  6.48348161e+00  2.65364461e+00  1.00218725e+01  1.16490559e+01\n",
      " -1.69720952e+01  6.24372943e+00 -1.73889399e+01 -5.58615939e+00\n",
      "  4.09515634e+00  4.98034208e+00 -1.17100739e+00  1.13351766e+01\n",
      " -1.71286668e+00 -8.29710612e+00  3.80339664e+00 -5.26022269e-01\n",
      " -1.98927602e+00  1.94393655e+01 -7.00699798e+00  1.16039812e+01\n",
      " -8.54209688e+00  4.92343169e+00 -5.14715911e+00  6.10966285e+00\n",
      " -2.08225590e+00 -9.77979713e+00 -5.52907621e+00 -2.41590264e-01\n",
      "  5.13743538e+00  2.24637073e+00 -2.21966690e+00  4.29046011e-01\n",
      "  5.20222228e+00  2.15348645e+00  4.94714688e+00 -1.51680872e+01\n",
      "  1.69839140e+01 -3.11300512e+00  4.20948439e+00 -1.22047390e+01\n",
      "  2.37252050e+00 -4.24026379e-02 -1.00793548e+01 -1.46219916e-01\n",
      "  1.16687474e+01 -1.15172167e+01  1.43344509e+01 -1.84534869e+00\n",
      " -6.51954473e+00 -1.96670318e+01 -3.34780386e+00  6.81011487e+00\n",
      " -1.16204939e+00  1.60181579e+00  1.04992596e+01 -7.40358254e+00\n",
      "  4.51675950e+00  8.79305901e-01 -7.83487931e+00 -9.79894155e+00\n",
      " -9.98060644e+00 -3.92080711e+00  2.55697865e+01 -6.51205695e+00\n",
      " -1.44900579e+00  4.45182300e+00 -8.79038216e-01 -6.26613531e+00\n",
      "  4.32770171e+00  1.28042298e+01 -8.12121669e+00 -1.79916288e+00\n",
      " -6.99434084e-01 -6.27343578e-01 -7.16748406e+00 -1.66629520e+01\n",
      "  2.62179795e+00  1.21880948e+01  1.04186456e+01  5.93622778e+00\n",
      " -1.74440482e+01 -1.24590265e+01 -7.44307523e+00  7.51022422e-01\n",
      "  9.71996682e-01  1.14850444e+00  1.09345565e+01  1.43025809e+01\n",
      " -4.15143897e+00  1.08380025e+01 -7.85729358e+00  6.10323340e+00\n",
      "  1.05589429e+01 -2.39168461e-01  7.28742639e+00  7.80922460e+00\n",
      "  2.25606820e+01  3.26096659e-01 -2.03261521e+00  9.42467718e+00\n",
      "  5.63048435e+00 -1.12313164e+01  4.13769107e+00  6.80224030e+00\n",
      "  7.40230856e+00  1.12892302e+00 -3.30084058e+00 -6.05839120e+00\n",
      "  2.29435794e+01  4.05906336e-02  1.43418233e+01 -3.39993236e+00\n",
      " -1.71618253e+01 -1.06495165e+01  1.64522730e+01  9.13764441e+00\n",
      "  6.20786252e+00 -9.04335750e+00 -1.02719449e+01  9.57039698e+00\n",
      "  1.21155091e+01  7.01636942e+00 -7.76615426e+00 -9.36678415e+00\n",
      "  7.02249565e+00  1.20690317e+01  4.85235135e+00  1.21733372e+01\n",
      "  1.06257125e+01  8.27756027e-01  1.12850716e+01 -7.19240839e+00\n",
      " -1.13786749e+01  3.29856886e-01  9.05702963e+00  4.62939693e+00\n",
      " -1.08954906e-02  3.11148326e+00 -3.91308263e+00  6.88134061e+00\n",
      "  5.64789610e+00  5.90055190e-01  5.70939145e+00  3.69043607e+00\n",
      "  1.07516362e+01  1.85832228e+00  7.61759028e+00  6.55456141e+00\n",
      " -3.24344140e+00  1.26946502e+01  5.45952237e+00 -4.16739682e+00\n",
      " -1.13254511e+00 -1.43808706e+00 -1.21273391e+01 -2.89807707e+00\n",
      "  6.28878280e+00 -1.34212258e+01 -7.72184611e+00 -1.06377442e+01\n",
      "  2.62932638e+00  2.08213558e+01  2.35243651e+01 -1.00747224e+01\n",
      " -6.65920944e+00 -9.83555013e-01  4.75917548e+00 -7.72801723e+00\n",
      " -2.11715363e+01 -6.14082242e-01  1.29954980e+01 -1.24852842e+01\n",
      " -3.64840433e+00  1.46027562e+00  2.37989098e+00  8.29178782e+00\n",
      "  9.70920415e-01 -2.17971984e+01  9.70654279e-01 -3.79567060e+00\n",
      "  1.57101685e+01 -1.93467159e+00  1.65690485e+01 -8.27749880e-02\n",
      " -2.38203733e+01  6.95488407e+00  5.95081917e+00 -1.61597650e+01\n",
      "  3.49989167e+00 -1.46995562e+00 -2.56793080e+00 -3.54089141e+00\n",
      "  1.35863286e+00  1.14665321e+01 -1.24553096e+01  1.43023754e+01\n",
      "  5.65052498e+00 -3.79719397e+00 -5.59584231e+00 -9.99692426e+00\n",
      " -5.21212600e+00 -8.99576232e-01  7.80659472e+00  3.01355261e+00\n",
      "  1.11124340e+01 -5.79588136e+00 -8.06545059e+00 -1.35797278e+01\n",
      " -1.58064396e+01  1.29445936e-01 -1.29957150e+01 -1.15993519e+01\n",
      "  1.12125873e+01  1.52756045e+01 -1.37466822e+01  2.83780075e+00\n",
      " -1.01930096e+01 -9.21241696e+00  1.24801799e+01 -8.84009984e+00\n",
      "  2.65186669e+00  7.35606560e+00  2.42515781e+01 -1.19210109e+01\n",
      "  1.29322669e+01  1.04156691e+01  7.99287239e+00 -4.82861027e+00\n",
      " -1.91867396e+01 -4.80502309e+00  3.11129983e+00  3.26604664e+00\n",
      "  3.11207134e+00 -2.06448944e+01  1.49298841e+00  2.70183807e-02\n",
      " -1.28956836e+00  2.31227669e+01 -2.79314489e+00 -5.74411535e+00\n",
      "  2.01151478e+00 -4.70298325e+00  7.14577918e+00  8.43400878e+00\n",
      " -4.96416926e+00  1.43376763e+00  4.97189755e+00 -7.08963706e+00\n",
      "  4.71703528e+00 -5.09920412e+00  1.19889760e+00  8.58433225e-03\n",
      "  1.53730139e+01 -1.13154020e+01  1.24672503e+01 -2.83251639e+01\n",
      "  1.17581703e+01 -1.16727865e+01  1.14177465e+01 -1.25920950e+01\n",
      " -9.52996978e+00  1.18468492e+01 -1.36495387e+01  9.23301720e-01\n",
      " -8.31547308e+00  2.31203281e+00 -3.74021887e+00 -8.17164055e+00\n",
      "  1.01586691e+01 -1.64987383e+01  3.74659773e+00 -1.25144181e+00\n",
      " -1.33395406e+01 -1.76272046e+01 -8.28450909e+00  5.69622332e-01\n",
      " -1.97879160e+01  9.66936768e+00 -8.38626411e+00 -4.44271322e+00\n",
      "  1.57783058e+01 -9.57428532e+00  2.85182984e+01 -3.73059384e+00\n",
      "  1.04650985e+01 -5.79809807e+00  2.90135675e+00  1.16474236e+01\n",
      "  1.72368692e+01 -8.09819063e-01  8.69641414e+00  1.21703664e+01\n",
      "  2.83217404e+00 -9.22913146e+00  4.57918131e+00 -6.39755182e+00\n",
      "  1.94531524e+01  1.64810066e+01  6.06107281e+00  1.76543509e+01\n",
      "  6.34294244e+00  4.59465840e+00 -9.72745237e+00 -1.72034788e+01\n",
      " -2.97396712e+00  1.17586776e+01 -7.59521592e+00  1.52234987e+01\n",
      "  1.52722979e+00  9.44358738e+00 -4.90982431e+00  7.10130405e+00\n",
      "  1.33408753e+00  2.47300889e+00 -2.42727477e+00  1.08985883e+00\n",
      " -1.04578969e+01  1.80797953e+01  2.37130994e+00 -1.26366348e+01\n",
      "  1.01040713e+01 -2.27333992e+01 -1.05943351e+01  1.00519420e+01\n",
      " -7.88181670e+00 -1.60320340e+01  1.39544482e+01  2.37512989e+01\n",
      "  1.46743666e+01 -1.30923495e+01 -9.43587787e+00 -8.11733677e+00\n",
      "  1.42877492e+00 -1.32393179e+01  3.92174729e+00 -3.91017225e+00\n",
      " -1.94230370e+00 -1.53988623e+01 -3.20365832e+00  1.46736580e+01\n",
      "  9.68073649e+00  6.38171969e+00 -1.21315626e+01 -4.41400096e+00\n",
      "  2.24910933e+01  1.14895544e+01 -1.32319280e+00 -1.83398410e+01\n",
      " -8.92792082e+00 -5.40623234e+00 -5.41366827e+00  8.04415857e-01\n",
      "  2.12748024e+00 -6.54331707e+00 -6.15874171e+00 -4.33191744e+00\n",
      " -2.78324444e+01  6.97137859e-01  1.45796474e+00  1.10489795e+01\n",
      " -2.32363146e+01 -3.88317217e+00 -5.02331758e+00  8.90248385e+00\n",
      " -1.81086174e+01  2.96856904e-02  8.72439350e+00  1.99295871e+01\n",
      "  1.83715792e+00  1.59559149e+01  5.36779017e-01 -1.58499731e+01\n",
      " -1.11191698e+00 -2.03092421e+00  9.75238974e-01 -7.98130184e+00\n",
      " -2.16632740e+01 -2.62972652e+00  3.66838915e+00  1.56788091e+01\n",
      "  3.01795884e+00  1.84133048e+00  1.00604669e+01 -7.17298477e+00\n",
      "  8.66519508e+00  6.09454014e+00  2.83772719e+00  4.69328327e-01\n",
      " -1.07499317e+01  3.50301371e+00  1.03146152e+00  1.10438239e+01\n",
      "  1.39963321e+01  4.71629256e+00  5.48053260e+00 -1.21396631e+01\n",
      "  6.52038413e+00  1.39269411e+00  2.20228169e-01 -6.94984577e+00\n",
      " -1.39526525e+00  1.22077380e+00 -3.28097354e+00 -1.46033619e+01\n",
      " -3.35432755e+00  1.27466398e+01 -1.25688695e+01  1.44471459e+01\n",
      " -1.15192732e+01  1.13366522e+01  3.43663475e+00 -5.12880031e+00\n",
      " -1.20963966e+00 -1.48959686e+00 -1.88859429e+00 -6.30447378e-01\n",
      " -2.09005675e+01 -1.91013014e+00 -6.87321521e+00  3.18052209e-01\n",
      " -2.38585952e+01 -5.00411607e+00 -1.58264959e+01  1.42785911e+01\n",
      "  1.00653521e+01 -8.54757794e+00 -1.00317216e+01  8.59501926e+00\n",
      "  2.72199383e-01  6.07243591e+00  1.25820081e+01 -6.22807662e+00\n",
      "  5.43211371e+00  5.88214000e+00  2.66980207e+00 -6.27641819e+00\n",
      " -7.90088855e-01 -7.70792453e+00  2.88989912e+00  9.39803462e+00\n",
      " -4.17529955e+00  3.39762261e+00  6.38921620e+00 -1.18347077e+01\n",
      "  6.71692803e+00  9.74615711e+00  1.40610658e+01  5.09105745e-01\n",
      " -4.07642113e+00 -8.57700196e+00 -1.40268680e+01  7.66109877e+00\n",
      "  7.67654118e+00  1.26637288e+01  8.99007209e+00  1.16004831e+01\n",
      " -1.56271390e+01 -2.46325860e+01 -1.56352437e+00  1.54810085e+01\n",
      " -3.10426966e+00 -1.82767654e+00  7.79398078e+00 -1.66129295e+01\n",
      " -1.06854029e+01 -4.33391474e+00  9.31465347e-01 -1.22200642e+01\n",
      " -1.81532720e+01  1.17175077e+01 -1.03492099e+01 -3.14587951e+01\n",
      "  7.10352436e+00  1.39858402e+01 -1.27083465e+01  1.40409958e+00\n",
      "  1.42158642e+01 -7.14270528e+00  5.70838874e+00 -1.20385758e+01\n",
      "  8.86329092e+00 -1.12879837e+01 -1.53136098e+01 -1.93129844e+01\n",
      "  3.00505797e+00  5.75498963e+00 -9.15000472e+00 -3.96621152e+00\n",
      "  3.36474480e+00  1.00300653e+01  2.27690764e+00  1.36528802e+01\n",
      " -1.13914096e+00  2.74768178e-01 -8.87243366e+00 -9.41346733e+00\n",
      "  1.68465726e+01  1.44881848e+01 -6.12779804e+00 -5.50351946e+00\n",
      " -7.76031520e+00  1.72325816e-01 -1.37636552e+01 -8.64688550e-01\n",
      " -5.48129276e-01  8.60897025e+00 -2.38314219e+00  1.59356439e+01\n",
      " -1.19400132e+01  1.56307835e+01  6.06041874e+00 -1.54123361e+01\n",
      "  8.43867830e+00 -2.58794542e-01  1.64356851e+01 -4.96204938e+00\n",
      "  2.39075470e+01 -8.86846775e-01 -3.10024289e+00 -1.37663815e+01\n",
      " -7.52524374e+00  1.62890038e+01  7.35769172e+00 -8.31580536e-01\n",
      "  1.70326052e+00 -1.24774252e+01 -1.63911505e+00 -6.73205263e+00\n",
      "  2.34929243e+01  1.84980870e+00 -4.02161831e+00  5.52470892e+00\n",
      " -2.66562694e+00 -1.01975142e+01  6.61398939e-01  5.44540127e+00\n",
      "  9.63870738e+00 -5.55265167e-01  1.02533807e+01  1.31689150e+01\n",
      " -5.66894794e+00 -1.04681538e+01 -4.69451424e+00  1.30409914e+01\n",
      "  6.76302033e+00  1.25270230e+00 -7.41814827e+00 -3.72558808e+00\n",
      "  3.86980993e+00 -9.04950230e+00 -2.04541358e-01  5.39613786e+00\n",
      " -3.91261452e+00  1.39647563e+01 -2.87511458e+00  8.64368313e+00\n",
      "  3.82080252e+00 -5.28191067e+00  2.48723354e+00  7.01136190e+00\n",
      "  2.35092536e+00 -1.22087809e+01  1.21512621e+01 -8.56178710e+00\n",
      " -5.44478693e+00  1.65509501e+01  7.97077387e-01  7.40718213e+00\n",
      "  9.90895789e+00 -1.13306836e+01 -7.02033499e-01  1.00386460e+00\n",
      "  3.88773738e+00  4.28660560e+00  3.96686430e-01  1.77085960e+01\n",
      " -2.22066467e+01  1.15245218e+01  2.40295344e+00  3.95933645e+00\n",
      " -2.75180817e+00 -1.05462209e+01  6.58950428e+00 -7.33072278e+00\n",
      " -1.18705405e+00 -6.30738382e+00 -2.14842191e+01  1.53349936e+01\n",
      " -5.05538891e+00  1.67417733e+01  3.53521960e+00 -1.31839517e+01\n",
      " -3.02663430e+01 -1.85321655e+01 -6.83072972e+00  9.06637406e-01\n",
      "  5.18776399e-01 -6.39117863e+00  2.76706136e+01 -2.58436629e+00\n",
      " -5.84784680e+00 -3.68670784e-01  1.78468323e+01  1.09471863e+01\n",
      "  1.73136560e+00 -6.87389016e+00  6.00498168e+00 -4.27601254e+00\n",
      "  1.46268271e+00  1.74157895e+00 -3.46816015e+00 -1.39378348e+01\n",
      "  9.67303716e+00  1.18437175e+01  2.01751073e+00 -9.14197553e+00\n",
      "  1.35041014e+00  1.11702518e+01  3.40889447e+00 -6.94617034e+00\n",
      "  3.65612815e+00 -3.25232804e+00  4.79296369e+00 -1.59251237e+01\n",
      " -1.55203406e+00 -1.18421757e+01  1.26928165e+01  1.62799515e+01\n",
      " -7.98939771e+00  3.01715478e+00 -2.95661022e+01  6.68726993e+00\n",
      "  1.31579632e+01  2.41257623e+01 -9.84496548e+00 -1.69423058e+01\n",
      "  1.65673415e+01 -1.66580944e+01 -5.86718720e+00 -1.98076221e-01\n",
      " -3.69738066e+00  1.38814927e+01  7.24015370e+00 -2.55122943e+01\n",
      " -5.00079534e+00 -1.66227164e+00 -8.72910113e+00 -9.81012005e-01\n",
      " -6.46181056e+00 -9.23988417e+00 -2.60737937e+00 -1.25090831e+01\n",
      " -4.57531092e-02 -9.93204661e-01  6.52731907e-01  4.49915475e+00\n",
      " -1.83522040e+00  6.24929815e+00  4.59516077e+00 -4.46827293e+00\n",
      " -3.73429766e+00 -9.10303927e+00 -5.81585130e+00  1.37362842e+01\n",
      " -3.42300000e+03 -2.41537026e+00 -2.31359059e+01  1.67196084e+01\n",
      " -7.77162080e+00  2.13267969e+01 -4.68034770e+00  9.32379318e+00\n",
      "  9.30983356e+00  4.95105545e+00 -8.18824351e+00 -3.37326169e+00\n",
      " -5.30182470e+00  1.69109909e+00 -9.80608153e+00  1.47082730e+01\n",
      " -6.48400124e+00 -1.40883094e+01 -4.26758057e+00  9.94799110e-01\n",
      " -1.29271410e+01  1.71591438e+01  2.03730930e+00  1.19110240e+01\n",
      " -1.23408367e+01  1.17420602e+00 -7.32314241e+00  1.29064999e+00\n",
      " -3.94403080e+00  1.55450103e+01  9.02036379e-01 -1.19726100e+01\n",
      " -8.79206188e+00  2.59490128e+00 -7.89069812e+00 -4.35522393e+00\n",
      " -1.18004329e+01 -1.67111258e+00 -6.22138103e+00 -2.30804651e+01\n",
      " -1.06832734e+01  2.70316766e+01 -9.08102167e+00 -1.92483922e+00\n",
      " -7.49248382e+00 -8.10201526e+00  3.05359657e+00 -2.76910256e+00\n",
      "  4.72629662e+00  9.05115707e+00 -1.14761972e+01 -2.06499284e+00\n",
      "  2.46561109e+00  3.35832421e+00 -1.24363621e-01  6.26044445e+00\n",
      "  1.00539606e+00  1.75913338e+01 -5.84120294e+00 -5.14995535e+00\n",
      "  2.28736789e+00  2.13297152e+00  7.12867598e+00  8.17542679e+00\n",
      "  1.32566618e+00 -1.39984313e+00 -7.34150713e+00  7.46674941e+00\n",
      "  7.61808655e+00  3.61069073e+00 -2.38683678e+01  1.00672774e+01\n",
      " -4.38263465e+00 -7.60259373e+00  1.42522506e+01  5.77140494e+00\n",
      " -6.38314563e+00  1.36614910e+01 -1.24511995e+01  4.50335718e+00\n",
      " -3.86513641e-01  8.07306507e+00  4.77498479e+00 -1.53133758e+00\n",
      "  1.22489022e+01  1.09839841e+01 -1.04177685e+01  7.94193078e+00\n",
      "  8.49209102e+00  7.98620641e+00 -9.80873429e+00 -2.40383728e+00\n",
      " -9.46964274e+00  2.11790641e+01  1.07796414e+01  1.84165910e+01\n",
      "  7.89661311e-01 -1.07615696e+01  1.09166774e+01 -4.37768383e+00\n",
      " -4.76169216e+00 -4.96408328e+00  6.26066017e+00 -1.27988280e+01\n",
      "  9.86096204e+00 -1.71429020e+01 -2.77601897e+01  1.09686872e+00\n",
      "  1.92138147e+01  6.39959660e-01  3.73143234e+00 -8.35895667e+00\n",
      " -8.92390663e+00 -8.98862629e+00  9.47597747e+00  3.07879977e-01\n",
      "  4.00784836e+00 -1.28492127e+01 -1.68831188e+01 -1.55041990e+01\n",
      "  8.96607012e+00  1.26569572e+01 -5.65095018e+00  1.55625942e+01\n",
      " -5.83136414e+00  2.16292604e+01 -2.05793732e+00 -1.33865848e+01\n",
      "  9.80693082e-01  5.29618076e-01 -9.28817589e+00  3.19995563e+00\n",
      "  3.82736863e+00  1.23838561e+01 -4.58604752e+00 -1.01132425e+01\n",
      " -2.04026003e+01 -6.43756566e+00  4.15593411e+00  4.22314136e+00\n",
      " -4.85108509e+00 -1.49217717e+00  1.12288533e+01 -1.91456414e+01\n",
      " -7.10360961e-01 -2.14741002e+00  6.86075508e+00 -2.29465686e+00\n",
      "  1.98847296e+01  6.32801760e+00  2.74355077e+00 -4.47319039e+00\n",
      " -4.89593973e+00  4.01691601e+00  6.25558926e+00  2.28627468e+00\n",
      " -3.53790977e+00 -1.40868974e+00  1.95265646e+00  5.85136028e+00\n",
      " -1.24544462e+01  2.15768133e+00  2.43901940e+00  1.59180714e+01\n",
      "  1.52305527e+01 -6.53219080e+00 -1.13121117e-01  3.01080014e+00]\n",
      "############################\n",
      "-2.3091954282720706\n",
      "[ 1038. -3423.]\n"
     ]
    }
   ],
   "source": [
    "# Create an array of 10 elements with values filled as 1000\n",
    "\n",
    "values = np.random.normal(0,10, 1_000)       # Array of 1000 elements with mean of 0 and standard deviation of 10\n",
    "values[33] = 1038                   \n",
    "values[832] = -3423\n",
    "p(values)\n",
    "p(values.mean())\n",
    "\n",
    "mask = np.abs(values - values.mean()) > (2* values.std())\n",
    "print(values[mask])                             # This will give the values of outlier, basically values[33] and values[832]\n"
   ]
  },
  {
   "cell_type": "code",
   "execution_count": 44,
   "metadata": {},
   "outputs": [
    {
     "name": "stdout",
     "output_type": "stream",
     "text": [
      "############################\n",
      "[0 1 2]\n",
      "############################\n",
      "[4 5 6]\n"
     ]
    }
   ],
   "source": [
    "arr = np.arange(3)\n",
    "p(arr)\n",
    "p(arr+4)       # Added the 4 to each of the elements\n",
    "\n"
   ]
  },
  {
   "cell_type": "code",
   "execution_count": 45,
   "metadata": {},
   "outputs": [
    {
     "name": "stdout",
     "output_type": "stream",
     "text": [
      "############################\n",
      "[[0 1 2]\n",
      " [3 4 5]\n",
      " [6 7 8]]\n",
      "############################\n",
      "[0 1 2]\n",
      "############################\n",
      "[[ 0  2  4]\n",
      " [ 3  5  7]\n",
      " [ 6  8 10]]\n"
     ]
    }
   ],
   "source": [
    "# Broadcasting 1\n",
    "\n",
    "mat = np.arange(9).reshape((3,3))\n",
    "vec = np.arange(3)\n",
    "p(mat)\n",
    "p(vec)\n",
    "p(mat+vec)      # Added the vector to every row"
   ]
  },
  {
   "cell_type": "code",
   "execution_count": 46,
   "metadata": {},
   "outputs": [
    {
     "name": "stdout",
     "output_type": "stream",
     "text": [
      "############################\n",
      "[0 1 2]\n",
      "############################\n",
      "[[0]\n",
      " [1]\n",
      " [2]]\n",
      "############################\n",
      "[[0 1 2]\n",
      " [1 2 3]\n",
      " [2 3 4]]\n"
     ]
    }
   ],
   "source": [
    "# Broadcasting 2\n",
    "\n",
    "v1 = np.arange(3)\n",
    "v2 = np.arange(3).reshape((3,1))\n",
    "p(v1)\n",
    "p(v2)\n",
    "p(v1+v2)             ## Added the vector v1 to each row of v2"
   ]
  },
  {
   "cell_type": "code",
   "execution_count": 47,
   "metadata": {},
   "outputs": [
    {
     "name": "stdout",
     "output_type": "stream",
     "text": [
      "############################\n",
      "Original vector is \n",
      "[[0 1 2]\n",
      " [3 4 5]\n",
      " [6 7 8]]\n",
      "############################\n",
      "[[0 3 6]\n",
      " [1 4 7]\n",
      " [2 5 8]]\n",
      "############################\n",
      "True\n",
      "############################\n",
      "False\n"
     ]
    }
   ],
   "source": [
    "v = np.array([[0,1,2],\n",
    "              [3,4,5],\n",
    "              [6,7,8]\n",
    "              ])\n",
    "p(\"Original vector is \", v)\n",
    "p(v.T)    # T is for trnaspose Matrix, the rows would become the colums\n",
    "\n",
    "p(v.any())         # This will return true if there is atleast one element in the array which is true\n",
    "\n",
    "p(v.all())          #v.all will return True if all elements of matrix is true, else it returns false\n"
   ]
  },
  {
   "cell_type": "code",
   "execution_count": 48,
   "metadata": {},
   "outputs": [
    {
     "name": "stdout",
     "output_type": "stream",
     "text": [
      "############################\n",
      "120\n",
      "############################\n",
      "[ 4 12]\n",
      "############################\n",
      "[4 5 7]\n"
     ]
    }
   ],
   "source": [
    "v = np.array([[1,1,2],\n",
    "              [3,4,5],\n",
    "              ])\n",
    "p(v.prod())              # Product of all the elements in an array\n",
    "\n",
    "p(v.sum(axis=1))       # Sum of the rows\n",
    "p(v.sum(axis=0))       # Sum of the colums\n",
    "\n"
   ]
  },
  {
   "cell_type": "code",
   "execution_count": 49,
   "metadata": {},
   "outputs": [
    {
     "name": "stdout",
     "output_type": "stream",
     "text": [
      "############################\n",
      "[[1 1 2]\n",
      " [3 4 5]]\n",
      "############################\n",
      "[[ 1  1  2]\n",
      " [ 3  4 16]]\n"
     ]
    }
   ],
   "source": [
    "v1 = np.array([[1,1,2],\n",
    "              [3,4,5],\n",
    "              ])\n",
    "v2 = v1.copy()   # Creates a copy of the original array\n",
    "v2[1,2] = 16\n",
    "p(v1)\n",
    "p(v2)\n"
   ]
  },
  {
   "cell_type": "code",
   "execution_count": 50,
   "metadata": {},
   "outputs": [
    {
     "name": "stdout",
     "output_type": "stream",
     "text": [
      "############################\n",
      "0.8939966636005579\n"
     ]
    }
   ],
   "source": [
    "x = np.sin(90)  # This 90 is in radian not degree\n",
    "p(x)\n"
   ]
  },
  {
   "cell_type": "code",
   "execution_count": 51,
   "metadata": {},
   "outputs": [
    {
     "name": "stdout",
     "output_type": "stream",
     "text": [
      "[[ 0.84147098  0.84147098  0.90929743]\n",
      " [ 0.14112001 -0.7568025  -0.95892427]]\n"
     ]
    }
   ],
   "source": [
    "n = np.arange(-3,3)     # Run the sine function on a vector\n",
    "print(np.sin(v))\n"
   ]
  },
  {
   "cell_type": "code",
   "execution_count": 52,
   "metadata": {},
   "outputs": [
    {
     "name": "stdout",
     "output_type": "stream",
     "text": [
      "############################\n",
      "2\n",
      "############################\n",
      "[-3 -2 -1  0  1  2  3  4]\n",
      "############################\n",
      "[0. 0. 0. 0. 1. 2. 3. 4.]\n",
      "############################\n",
      "[-7. -7. -7. -7. -6. -5. -4. -3.]\n"
     ]
    }
   ],
   "source": [
    "@np.vectorize                 #This method would make the data extend to vector\n",
    "def relu(n):\n",
    "    if n<0:\n",
    "        return 0.0\n",
    "    return n\n",
    "\n",
    "p(relu(2))\n",
    "\n",
    "v1 = np.arange(-3,5)\n",
    "p(v1)\n",
    "\n",
    "p(relu(v1))\n",
    "p(relu(v1)-7)         # This will remove -7 from vector(i.e, each component of the vector)\n"
   ]
  },
  {
   "cell_type": "code",
   "execution_count": 53,
   "metadata": {},
   "outputs": [],
   "source": [
    "\n",
    "#Pearson Correlation\n",
    "\n",
    "def correlation_coefficient(data1, data2):\n",
    "  \"\"\"\n",
    "  Calculates the correlation coefficient between two lists of data.\n",
    "\n",
    "  Args:\n",
    "    data1: The first list of data.\n",
    "    data2: The second list of data.\n",
    "\n",
    "  Returns:\n",
    "    The correlation coefficient between the two lists of data.\n",
    "  \"\"\"\n",
    "\n",
    "  mean1 = np.mean(data1)\n",
    "  mean2 = np.mean(data2)\n",
    "  std1 = np.std(data1)\n",
    "  std2 = np.std(data2)\n",
    "\n",
    "  covariance = np.sum((data1 - mean1)*(data2 - mean2)) / len(data1)\n",
    "  correlation = covariance / (std1 * std2)\n",
    "\n",
    "  return correlation"
   ]
  },
  {
   "cell_type": "code",
   "execution_count": null,
   "metadata": {},
   "outputs": [],
   "source": []
  }
 ],
 "metadata": {
  "kernelspec": {
   "display_name": "Python 3",
   "language": "python",
   "name": "python3"
  },
  "language_info": {
   "codemirror_mode": {
    "name": "ipython",
    "version": 3
   },
   "file_extension": ".py",
   "mimetype": "text/x-python",
   "name": "python",
   "nbconvert_exporter": "python",
   "pygments_lexer": "ipython3",
   "version": "3.10.14"
  }
 },
 "nbformat": 4,
 "nbformat_minor": 2
}
