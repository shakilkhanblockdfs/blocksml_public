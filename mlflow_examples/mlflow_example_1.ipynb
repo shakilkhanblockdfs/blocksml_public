{
 "cells": [
  {
   "cell_type": "markdown",
   "metadata": {},
   "source": [
    "### What is mlflow?\n",
    "\n",
    "MLflow is an open-source platform for managing the end-to-end machine learning lifecycle. It provides tools to track experiments, \n",
    "package code into reproducible runs, and share and deploy models. Here's a simple example of how you can use MLflow to track an experiment:"
   ]
  },
  {
   "cell_type": "code",
   "execution_count": null,
   "metadata": {},
   "outputs": [],
   "source": [
    "!pip3 install mlflow\n",
    "!pip3 install scikit-learn\n"
   ]
  },
  {
   "cell_type": "code",
   "execution_count": null,
   "metadata": {},
   "outputs": [],
   "source": [
    "import mlflow\n",
    "import mlflow.sklearn\n",
    "from sklearn.datasets import load_iris\n",
    "from sklearn.ensemble import RandomForestClassifier\n",
    "from sklearn.model_selection import train_test_split\n",
    "from sklearn.metrics import accuracy_score"
   ]
  },
  {
   "cell_type": "code",
   "execution_count": null,
   "metadata": {},
   "outputs": [],
   "source": [
    "# Load the Iris dataset\n",
    "data = load_iris()\n",
    "X = data.data\n",
    "y = data.target"
   ]
  },
  {
   "cell_type": "code",
   "execution_count": null,
   "metadata": {},
   "outputs": [],
   "source": [
    "# Split the dataset into train and test sets\n",
    "X_train, X_test, y_train, y_test = train_test_split(X, y, test_size=0.2, random_state=42)"
   ]
  },
  {
   "cell_type": "code",
   "execution_count": null,
   "metadata": {},
   "outputs": [],
   "source": [
    "len(X_train)"
   ]
  },
  {
   "cell_type": "code",
   "execution_count": null,
   "metadata": {},
   "outputs": [],
   "source": [
    "\n",
    "# Start an MLflow experiment\n",
    "mlflow.set_experiment(\"iris_classification\")"
   ]
  },
  {
   "cell_type": "code",
   "execution_count": null,
   "metadata": {},
   "outputs": [],
   "source": [
    "with mlflow.start_run():\n",
    "    # Initialize RandomForestClassifier\n",
    "    clf = RandomForestClassifier(n_estimators=100, random_state=42)\n",
    "    # Train the model\n",
    "    clf.fit(X_train, y_train)\n",
    "    # Make predictions\n",
    "    y_pred = clf.predict(X_test)\n",
    "    # Calculate accuracy\n",
    "    accuracy = accuracy_score(y_test, y_pred)\n",
    "    \n",
    "    # Log parameters and metrics\n",
    "    mlflow.log_param(\"n_estimators\", 100)\n",
    "    mlflow.log_metric(\"accuracy\", accuracy)\n",
    "    \n",
    "    # Save the model\n",
    "    mlflow.sklearn.log_model(clf, \"random_forest_model\")"
   ]
  },
  {
   "cell_type": "markdown",
   "metadata": {},
   "source": [
    "In this example:\n",
    "\n",
    "We load the Iris dataset and split it into training and testing sets.\n",
    "We start an MLflow experiment named \"iris_classification\".\n",
    "Within the experiment, we start a run.\n",
    "We train a RandomForestClassifier on the training data and make predictions on the test data.\n",
    "We calculate the accuracy of the model.\n",
    "We log the parameters (n_estimators) and the accuracy metric using mlflow.log_param() and mlflow.log_metric(), respectively.\n",
    "We save the trained model using mlflow.sklearn.log_model().\n",
    "You need to have MLflow installed (pip install mlflow) and have a tracking server running to store your experiments. \n",
    "\n",
    "### You can start the tracking server with the command << mlflow ui >> in your terminal, without the <<>>\n",
    "### After running the script, you can view your experiment in the MLflow UI by navigating to http://localhost:5000 in your browser."
   ]
  }
 ],
 "metadata": {
  "kernelspec": {
   "display_name": "venv_2024",
   "language": "python",
   "name": "python3"
  },
  "language_info": {
   "codemirror_mode": {
    "name": "ipython",
    "version": 3
   },
   "file_extension": ".py",
   "mimetype": "text/x-python",
   "name": "python",
   "nbconvert_exporter": "python",
   "pygments_lexer": "ipython3",
   "version": "3.10.14"
  }
 },
 "nbformat": 4,
 "nbformat_minor": 2
}
