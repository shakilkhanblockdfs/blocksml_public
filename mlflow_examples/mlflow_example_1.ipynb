{
 "cells": [
  {
   "cell_type": "markdown",
   "metadata": {},
   "source": [
    "### What is mlflow?\n",
    "\n",
    "MLflow is an open-source platform for managing the end-to-end machine learning lifecycle. It provides tools to track experiments, \n",
    "package code into reproducible runs, and share and deploy models. Here's a simple example of how you can use MLflow to track an experiment:"
   ]
  },
  {
   "cell_type": "code",
   "execution_count": 10,
   "metadata": {},
   "outputs": [
    {
     "name": "stdout",
     "output_type": "stream",
     "text": [
      "Requirement already satisfied: mlflow in /Users/shakil/anaconda3/envs/venv_2024/lib/python3.10/site-packages (2.12.2)\n",
      "Requirement already satisfied: Flask<4 in /Users/shakil/anaconda3/envs/venv_2024/lib/python3.10/site-packages (from mlflow) (3.0.3)\n",
      "Requirement already satisfied: alembic!=1.10.0,<2 in /Users/shakil/anaconda3/envs/venv_2024/lib/python3.10/site-packages (from mlflow) (1.13.1)\n",
      "Requirement already satisfied: click<9,>=7.0 in /Users/shakil/anaconda3/envs/venv_2024/lib/python3.10/site-packages (from mlflow) (8.1.7)\n",
      "Requirement already satisfied: cloudpickle<4 in /Users/shakil/anaconda3/envs/venv_2024/lib/python3.10/site-packages (from mlflow) (3.0.0)\n",
      "Requirement already satisfied: docker<8,>=4.0.0 in /Users/shakil/anaconda3/envs/venv_2024/lib/python3.10/site-packages (from mlflow) (7.0.0)\n",
      "Requirement already satisfied: entrypoints<1 in /Users/shakil/anaconda3/envs/venv_2024/lib/python3.10/site-packages (from mlflow) (0.4)\n",
      "Requirement already satisfied: gitpython<4,>=3.1.9 in /Users/shakil/anaconda3/envs/venv_2024/lib/python3.10/site-packages (from mlflow) (3.1.43)\n",
      "Requirement already satisfied: graphene<4 in /Users/shakil/anaconda3/envs/venv_2024/lib/python3.10/site-packages (from mlflow) (3.3)\n",
      "Requirement already satisfied: importlib-metadata!=4.7.0,<8,>=3.7.0 in /Users/shakil/anaconda3/envs/venv_2024/lib/python3.10/site-packages (from mlflow) (7.1.0)\n",
      "Requirement already satisfied: markdown<4,>=3.3 in /Users/shakil/anaconda3/envs/venv_2024/lib/python3.10/site-packages (from mlflow) (3.6)\n",
      "Requirement already satisfied: matplotlib<4 in /Users/shakil/anaconda3/envs/venv_2024/lib/python3.10/site-packages (from mlflow) (3.9.0)\n",
      "Requirement already satisfied: numpy<2 in /Users/shakil/anaconda3/envs/venv_2024/lib/python3.10/site-packages (from mlflow) (1.26.4)\n",
      "Requirement already satisfied: packaging<25 in /Users/shakil/anaconda3/envs/venv_2024/lib/python3.10/site-packages (from mlflow) (23.2)\n",
      "Requirement already satisfied: pandas<3 in /Users/shakil/anaconda3/envs/venv_2024/lib/python3.10/site-packages (from mlflow) (2.2.2)\n",
      "Requirement already satisfied: protobuf<5,>=3.12.0 in /Users/shakil/anaconda3/envs/venv_2024/lib/python3.10/site-packages (from mlflow) (4.25.3)\n",
      "Requirement already satisfied: pyarrow<16,>=4.0.0 in /Users/shakil/anaconda3/envs/venv_2024/lib/python3.10/site-packages (from mlflow) (15.0.2)\n",
      "Requirement already satisfied: pytz<2025 in /Users/shakil/anaconda3/envs/venv_2024/lib/python3.10/site-packages (from mlflow) (2024.1)\n",
      "Requirement already satisfied: pyyaml<7,>=5.1 in /Users/shakil/anaconda3/envs/venv_2024/lib/python3.10/site-packages (from mlflow) (6.0.1)\n",
      "Requirement already satisfied: querystring-parser<2 in /Users/shakil/anaconda3/envs/venv_2024/lib/python3.10/site-packages (from mlflow) (1.2.4)\n",
      "Requirement already satisfied: requests<3,>=2.17.3 in /Users/shakil/anaconda3/envs/venv_2024/lib/python3.10/site-packages (from mlflow) (2.31.0)\n",
      "Requirement already satisfied: scikit-learn<2 in /Users/shakil/anaconda3/envs/venv_2024/lib/python3.10/site-packages (from mlflow) (1.4.2)\n",
      "Requirement already satisfied: scipy<2 in /Users/shakil/anaconda3/envs/venv_2024/lib/python3.10/site-packages (from mlflow) (1.13.0)\n",
      "Requirement already satisfied: sqlalchemy<3,>=1.4.0 in /Users/shakil/anaconda3/envs/venv_2024/lib/python3.10/site-packages (from mlflow) (2.0.29)\n",
      "Requirement already satisfied: sqlparse<1,>=0.4.0 in /Users/shakil/anaconda3/envs/venv_2024/lib/python3.10/site-packages (from mlflow) (0.5.0)\n",
      "Requirement already satisfied: Jinja2<4,>=2.11 in /Users/shakil/anaconda3/envs/venv_2024/lib/python3.10/site-packages (from mlflow) (3.1.4)\n",
      "Requirement already satisfied: gunicorn<23 in /Users/shakil/anaconda3/envs/venv_2024/lib/python3.10/site-packages (from mlflow) (22.0.0)\n",
      "Requirement already satisfied: Mako in /Users/shakil/anaconda3/envs/venv_2024/lib/python3.10/site-packages (from alembic!=1.10.0,<2->mlflow) (1.3.5)\n",
      "Requirement already satisfied: typing-extensions>=4 in /Users/shakil/anaconda3/envs/venv_2024/lib/python3.10/site-packages (from alembic!=1.10.0,<2->mlflow) (4.11.0)\n",
      "Requirement already satisfied: urllib3>=1.26.0 in /Users/shakil/anaconda3/envs/venv_2024/lib/python3.10/site-packages (from docker<8,>=4.0.0->mlflow) (2.2.1)\n",
      "Requirement already satisfied: Werkzeug>=3.0.0 in /Users/shakil/anaconda3/envs/venv_2024/lib/python3.10/site-packages (from Flask<4->mlflow) (3.0.3)\n",
      "Requirement already satisfied: itsdangerous>=2.1.2 in /Users/shakil/anaconda3/envs/venv_2024/lib/python3.10/site-packages (from Flask<4->mlflow) (2.2.0)\n",
      "Requirement already satisfied: blinker>=1.6.2 in /Users/shakil/anaconda3/envs/venv_2024/lib/python3.10/site-packages (from Flask<4->mlflow) (1.8.2)\n",
      "Requirement already satisfied: gitdb<5,>=4.0.1 in /Users/shakil/anaconda3/envs/venv_2024/lib/python3.10/site-packages (from gitpython<4,>=3.1.9->mlflow) (4.0.11)\n",
      "Requirement already satisfied: graphql-core<3.3,>=3.1 in /Users/shakil/anaconda3/envs/venv_2024/lib/python3.10/site-packages (from graphene<4->mlflow) (3.2.3)\n",
      "Requirement already satisfied: graphql-relay<3.3,>=3.1 in /Users/shakil/anaconda3/envs/venv_2024/lib/python3.10/site-packages (from graphene<4->mlflow) (3.2.0)\n",
      "Requirement already satisfied: aniso8601<10,>=8 in /Users/shakil/anaconda3/envs/venv_2024/lib/python3.10/site-packages (from graphene<4->mlflow) (9.0.1)\n",
      "Requirement already satisfied: zipp>=0.5 in /Users/shakil/anaconda3/envs/venv_2024/lib/python3.10/site-packages (from importlib-metadata!=4.7.0,<8,>=3.7.0->mlflow) (3.17.0)\n",
      "Requirement already satisfied: MarkupSafe>=2.0 in /Users/shakil/anaconda3/envs/venv_2024/lib/python3.10/site-packages (from Jinja2<4,>=2.11->mlflow) (2.1.5)\n",
      "Requirement already satisfied: contourpy>=1.0.1 in /Users/shakil/anaconda3/envs/venv_2024/lib/python3.10/site-packages (from matplotlib<4->mlflow) (1.2.1)\n",
      "Requirement already satisfied: cycler>=0.10 in /Users/shakil/anaconda3/envs/venv_2024/lib/python3.10/site-packages (from matplotlib<4->mlflow) (0.12.1)\n",
      "Requirement already satisfied: fonttools>=4.22.0 in /Users/shakil/anaconda3/envs/venv_2024/lib/python3.10/site-packages (from matplotlib<4->mlflow) (4.51.0)\n",
      "Requirement already satisfied: kiwisolver>=1.3.1 in /Users/shakil/anaconda3/envs/venv_2024/lib/python3.10/site-packages (from matplotlib<4->mlflow) (1.4.5)\n",
      "Requirement already satisfied: pillow>=8 in /Users/shakil/anaconda3/envs/venv_2024/lib/python3.10/site-packages (from matplotlib<4->mlflow) (10.3.0)\n",
      "Requirement already satisfied: pyparsing>=2.3.1 in /Users/shakil/anaconda3/envs/venv_2024/lib/python3.10/site-packages (from matplotlib<4->mlflow) (3.1.2)\n",
      "Requirement already satisfied: python-dateutil>=2.7 in /Users/shakil/anaconda3/envs/venv_2024/lib/python3.10/site-packages (from matplotlib<4->mlflow) (2.9.0)\n",
      "Requirement already satisfied: tzdata>=2022.7 in /Users/shakil/anaconda3/envs/venv_2024/lib/python3.10/site-packages (from pandas<3->mlflow) (2024.1)\n",
      "Requirement already satisfied: six in /Users/shakil/anaconda3/envs/venv_2024/lib/python3.10/site-packages (from querystring-parser<2->mlflow) (1.16.0)\n",
      "Requirement already satisfied: charset-normalizer<4,>=2 in /Users/shakil/anaconda3/envs/venv_2024/lib/python3.10/site-packages (from requests<3,>=2.17.3->mlflow) (3.3.2)\n",
      "Requirement already satisfied: idna<4,>=2.5 in /Users/shakil/anaconda3/envs/venv_2024/lib/python3.10/site-packages (from requests<3,>=2.17.3->mlflow) (3.7)\n",
      "Requirement already satisfied: certifi>=2017.4.17 in /Users/shakil/anaconda3/envs/venv_2024/lib/python3.10/site-packages (from requests<3,>=2.17.3->mlflow) (2024.2.2)\n",
      "Requirement already satisfied: joblib>=1.2.0 in /Users/shakil/anaconda3/envs/venv_2024/lib/python3.10/site-packages (from scikit-learn<2->mlflow) (1.4.2)\n",
      "Requirement already satisfied: threadpoolctl>=2.0.0 in /Users/shakil/anaconda3/envs/venv_2024/lib/python3.10/site-packages (from scikit-learn<2->mlflow) (3.5.0)\n",
      "Requirement already satisfied: smmap<6,>=3.0.1 in /Users/shakil/anaconda3/envs/venv_2024/lib/python3.10/site-packages (from gitdb<5,>=4.0.1->gitpython<4,>=3.1.9->mlflow) (5.0.1)\n"
     ]
    }
   ],
   "source": [
    "!pip3 install mlflow\n",
    "!pip3 install scikit-learn\n"
   ]
  },
  {
   "cell_type": "code",
   "execution_count": 3,
   "metadata": {},
   "outputs": [],
   "source": [
    "import mlflow\n",
    "import mlflow.sklearn\n",
    "from sklearn.datasets import load_iris\n",
    "from sklearn.ensemble import RandomForestClassifier\n",
    "from sklearn.model_selection import train_test_split\n",
    "from sklearn.metrics import accuracy_score"
   ]
  },
  {
   "cell_type": "code",
   "execution_count": 4,
   "metadata": {},
   "outputs": [],
   "source": [
    "# Load the Iris dataset\n",
    "data = load_iris()\n",
    "X = data.data\n",
    "y = data.target"
   ]
  },
  {
   "cell_type": "code",
   "execution_count": 5,
   "metadata": {},
   "outputs": [],
   "source": [
    "# Split the dataset into train and test sets\n",
    "X_train, X_test, y_train, y_test = train_test_split(X, y, test_size=0.2, random_state=42)"
   ]
  },
  {
   "cell_type": "code",
   "execution_count": 14,
   "metadata": {},
   "outputs": [
    {
     "data": {
      "text/plain": [
       "120"
      ]
     },
     "execution_count": 14,
     "metadata": {},
     "output_type": "execute_result"
    }
   ],
   "source": [
    "len(X_train)"
   ]
  },
  {
   "cell_type": "code",
   "execution_count": 6,
   "metadata": {},
   "outputs": [
    {
     "name": "stderr",
     "output_type": "stream",
     "text": [
      "2024/05/15 20:37:38 INFO mlflow.tracking.fluent: Experiment with name 'iris_classification' does not exist. Creating a new experiment.\n"
     ]
    },
    {
     "data": {
      "text/plain": [
       "<Experiment: artifact_location='file:///Users/shakil/Desktop/mlflow_examples/mlruns/598711381514058312', creation_time=1715830658919, experiment_id='598711381514058312', last_update_time=1715830658919, lifecycle_stage='active', name='iris_classification', tags={}>"
      ]
     },
     "execution_count": 6,
     "metadata": {},
     "output_type": "execute_result"
    }
   ],
   "source": [
    "\n",
    "# Start an MLflow experiment\n",
    "mlflow.set_experiment(\"iris_classification\")"
   ]
  },
  {
   "cell_type": "code",
   "execution_count": 7,
   "metadata": {},
   "outputs": [],
   "source": [
    "with mlflow.start_run():\n",
    "    # Initialize RandomForestClassifier\n",
    "    clf = RandomForestClassifier(n_estimators=100, random_state=42)\n",
    "    # Train the model\n",
    "    clf.fit(X_train, y_train)\n",
    "    # Make predictions\n",
    "    y_pred = clf.predict(X_test)\n",
    "    # Calculate accuracy\n",
    "    accuracy = accuracy_score(y_test, y_pred)\n",
    "    \n",
    "    # Log parameters and metrics\n",
    "    mlflow.log_param(\"n_estimators\", 100)\n",
    "    mlflow.log_metric(\"accuracy\", accuracy)\n",
    "    \n",
    "    # Save the model\n",
    "    mlflow.sklearn.log_model(clf, \"random_forest_model\")"
   ]
  },
  {
   "cell_type": "markdown",
   "metadata": {},
   "source": [
    "In this example:\n",
    "\n",
    "We load the Iris dataset and split it into training and testing sets.\n",
    "We start an MLflow experiment named \"iris_classification\".\n",
    "Within the experiment, we start a run.\n",
    "We train a RandomForestClassifier on the training data and make predictions on the test data.\n",
    "We calculate the accuracy of the model.\n",
    "We log the parameters (n_estimators) and the accuracy metric using mlflow.log_param() and mlflow.log_metric(), respectively.\n",
    "We save the trained model using mlflow.sklearn.log_model().\n",
    "You need to have MLflow installed (pip install mlflow) and have a tracking server running to store your experiments. \n",
    "\n",
    "### You can start the tracking server with the command << mlflow ui >> in your terminal, without the <<>>\n",
    "### After running the script, you can view your experiment in the MLflow UI by navigating to http://localhost:5000 in your browser."
   ]
  }
 ],
 "metadata": {
  "kernelspec": {
   "display_name": "venv_2024",
   "language": "python",
   "name": "python3"
  },
  "language_info": {
   "codemirror_mode": {
    "name": "ipython",
    "version": 3
   },
   "file_extension": ".py",
   "mimetype": "text/x-python",
   "name": "python",
   "nbconvert_exporter": "python",
   "pygments_lexer": "ipython3",
   "version": "3.10.14"
  }
 },
 "nbformat": 4,
 "nbformat_minor": 2
}
