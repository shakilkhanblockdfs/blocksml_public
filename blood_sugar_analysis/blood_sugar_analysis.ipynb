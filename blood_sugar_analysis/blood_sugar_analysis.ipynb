{
 "cells": [
  {
   "cell_type": "code",
   "execution_count": null,
   "metadata": {},
   "outputs": [],
   "source": [
    "!pip install pandas\n",
    "!pip install numpy"
   ]
  },
  {
   "cell_type": "code",
   "execution_count": null,
   "metadata": {},
   "outputs": [],
   "source": [
    "!pip install matplotlib"
   ]
  },
  {
   "cell_type": "code",
   "execution_count": null,
   "metadata": {},
   "outputs": [],
   "source": [
    "import pandas as pd\n",
    "import numpy as np\n",
    "import matplotlib.pyplot as plt\n",
    "import seaborn as sns"
   ]
  },
  {
   "cell_type": "code",
   "execution_count": null,
   "metadata": {},
   "outputs": [],
   "source": [
    "df = pd.read_csv(\"./sugar_level.csv\", comment=\"#\")\n",
    "\n",
    "df.head()"
   ]
  },
  {
   "cell_type": "code",
   "execution_count": null,
   "metadata": {},
   "outputs": [],
   "source": [
    "df1 = df[df['name'] == \"HellCat\"]   # Get all data for HellCat only\n",
    "average_sugar_level = df[df['name'] == \"HellCat\"]   # Get all data for HellCat only\n",
    "# print(average_sugar_level['sugar_level'].mean())\n",
    "print(f\"Average sugar level is:- {average_sugar_level.mean(numeric_only=True)}\")\n",
    "print(\"------------------------------\")\n",
    "\n",
    "fasting_sugar_level = df[(df['name'] == 'HellCat') & (df['test_type'] == 'fasting')]\n",
    "print(f\"Average fasting sugar level is:- {fasting_sugar_level.mean(numeric_only=True)}\")\n",
    "print(\"------------------------------\")\n",
    "\n",
    "nonfasting_sugar_level = df[(df['name'] == 'HellCat') & (df['test_type'] == 'nonfasting')]\n",
    "print(f\"Average non-fasting sugar level is:- {nonfasting_sugar_level.mean(numeric_only=True)}\")\n"
   ]
  },
  {
   "cell_type": "code",
   "execution_count": null,
   "metadata": {},
   "outputs": [],
   "source": [
    "# Filter rows for \"HellCat\" and \"fasting\" test type\n",
    "filtered_rows = df[(df['name'] == 'HellCat') & (df['test_type'] == 'fasting')]\n",
    "\n",
    "# Sort filtered rows by date in ascending order\n",
    "sorted_rows = filtered_rows.sort_values(by='date')\n",
    "print(\"--------------------\")\n",
    "print(sorted_rows)\n",
    "print(\"--------------------\")\n",
    "\n",
    "# Create histogram plot with KDE\n",
    "plt.figure(figsize=(10, 6))\n",
    "sns.histplot(data=sorted_rows, x='date', y=\"sugar_level\", kde=True)\n",
    "plt.title('Blood Sugar Levels for HellCat (Fasting)')\n",
    "plt.xlabel('Date')\n",
    "plt.ylabel('sugar_level')\n",
    "plt.xticks(rotation='vertical')\n",
    "plt.show()\n"
   ]
  },
  {
   "cell_type": "code",
   "execution_count": null,
   "metadata": {},
   "outputs": [],
   "source": [
    "filtered_rows = df[(df['name'] == 'HellCat') & (df['test_type'] == 'nonfasting')]\n",
    "\n",
    "# Sort filtered rows by date in ascending order\n",
    "sorted_rows = filtered_rows.sort_values(by='date')\n",
    "\n",
    "# Create histogram plot with KDE\n",
    "plt.figure(figsize=(10, 6))\n",
    "sns.histplot(data=sorted_rows, x='sugar_level', kde=True)\n",
    "plt.title('Blood Sugar Levels for HellCat (nonFasting)')\n",
    "plt.xlabel('Blood Sugar Level')\n",
    "plt.ylabel('Frequency')\n",
    "\n",
    "# Rotate x-axis tick labels vertically\n",
    "plt.xticks(rotation='vertical')\n",
    "\n",
    "plt.show()\n",
    "\n",
    "\n",
    "\n",
    "\n",
    "\n",
    "\n"
   ]
  },
  {
   "cell_type": "code",
   "execution_count": null,
   "metadata": {},
   "outputs": [],
   "source": [
    "filtered_rows = df[(df['name'] == 'HellCat')]\n",
    "\n",
    "# Sort filtered rows by date in ascending order\n",
    "sorted_rows = filtered_rows.sort_values(by='date')\n",
    "\n",
    "# Create histogram plot with KDE\n",
    "plt.figure(figsize=(10, 6))\n",
    "sns.histplot(data=sorted_rows, x='sugar_level', kde=True)\n",
    "plt.title('Blood Sugar Levels for HellCat (Fasting + nonfasting)')\n",
    "plt.xlabel('Blood Sugar Level')\n",
    "plt.ylabel('Frequency')\n",
    "\n",
    "# Rotate x-axis tick labels vertically\n",
    "\n",
    "plt.xticks(rotation='vertical')\n",
    "\n",
    "plt.show()\n",
    "\n"
   ]
  },
  {
   "cell_type": "markdown",
   "metadata": {},
   "source": [
    "Exercise.\n",
    "Create a Model so that give a field like exercise, fasting hours and diet type, predict the users blood sugar level;"
   ]
  },
  {
   "cell_type": "markdown",
   "metadata": {},
   "source": []
  }
 ],
 "metadata": {
  "kernelspec": {
   "display_name": "base",
   "language": "python",
   "name": "python3"
  },
  "language_info": {
   "codemirror_mode": {
    "name": "ipython",
    "version": 3
   },
   "file_extension": ".py",
   "mimetype": "text/x-python",
   "name": "python",
   "nbconvert_exporter": "python",
   "pygments_lexer": "ipython3",
   "version": "3.10.14"
  },
  "orig_nbformat": 4
 },
 "nbformat": 4,
 "nbformat_minor": 2
}
