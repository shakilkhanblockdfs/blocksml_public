{
 "cells": [
  {
   "cell_type": "code",
   "execution_count": 1,
   "metadata": {},
   "outputs": [],
   "source": [
    "import pandas as pd\n",
    "from sklearn.model_selection import train_test_split, cross_val_score\n",
    "from sklearn.linear_model import LinearRegression\n",
    "from sklearn.ensemble import RandomForestRegressor\n",
    "from sklearn.metrics import mean_squared_error\n",
    "import numpy as np"
   ]
  },
  {
   "cell_type": "code",
   "execution_count": 2,
   "metadata": {},
   "outputs": [],
   "source": [
    "\n",
    "\n",
    "# Load the dataset\n",
    "# data = {\n",
    "#     'AT': [14.96, 25.18, 5.11, 20.86, 10.82, 26.27, 15.89, 9.48, 14.64, 11.74, 17.99, 20.14, 24.34, 25.71, 26.19, 21.42, 18.21, 11.04, 14.45, 13.97, 17.76, 5.41, 7.76, 27.23, 27.36, 27.47, 14.6, 7.91, 5.81, 30.53, 23.87],\n",
    "#     'V': [41.76, 62.96, 39.4, 57.32, 37.5, 59.44, 43.96, 44.71, 45, 43.56, 43.72, 46.93, 73.5, 58.59, 69.34, 43.79, 45, 41.74, 52.75, 38.47, 42.42, 40.07, 42.28, 63.9, 48.6, 70.72, 39.31, 39.96, 35.79, 65.18, 63.94],\n",
    "#     'AP': [1024.07, 1020.04, 1012.16, 1010.24, 1009.23, 1012.23, 1014.02, 1019.12, 1021.78, 1015.14, 1008.64, 1014.66, 1011.31, 1012.77, 1009.48, 1015.76, 1022.86, 1022.6, 1023.97, 1015.15, 1009.09, 1019.16, 1008.52, 1014.3, 1003.18, 1009.97, 1011.11, 1023.57, 1012.14, 1012.69, 1019.02],\n",
    "#     'RH': [73.17, 59.08, 92.14, 76.64, 96.62, 58.77, 75.24, 66.43, 41.25, 70.72, 75.04, 64.22, 84.15, 61.83, 87.59, 43.08, 48.84, 77.51, 63.59, 55.28, 66.26, 64.77, 83.31, 47.19, 54.93, 74.62, 72.52, 88.44, 92.28, 41.85, 44.28],\n",
    "#     'PE': [463.26, 444.37, 488.56, 446.48, 473.9, 443.67, 467.35, 478.42, 475.98, 477.5, 453.02, 453.99, 440.29, 451.28, 433.99, 462.19, 467.54, 477.2, 459.85, 464.3, 468.27, 495.24, 483.8, 443.61, 436.06, 443.25, 464.16, 475.52, 484.41, 437.89, 445.11]\n",
    "# }\n",
    "\n",
    "# df = pd.DataFrame(data)\n",
    "df = pd.read_csv(\"./CCPP_data.csv\")\n",
    "\n",
    "# Define features and target\n",
    "X = df[['AT', 'V', 'AP', 'RH']]\n",
    "y = df['PE']\n",
    "\n",
    "# Split the data\n",
    "X_train, X_test, y_train, y_test = train_test_split(X, y, test_size=0.2, random_state=42)\n"
   ]
  },
  {
   "cell_type": "code",
   "execution_count": 3,
   "metadata": {},
   "outputs": [
    {
     "name": "stdout",
     "output_type": "stream",
     "text": [
      "Linear Regression CV RMSE: 4.572397273712407\n",
      "Random Forest CV RMSE: 3.4634835889157998\n"
     ]
    }
   ],
   "source": [
    "# Model training and validation\n",
    "\n",
    "# Linear Regression\n",
    "lr = LinearRegression()\n",
    "lr_cv_scores = cross_val_score(lr, X_train, y_train, cv=5, scoring='neg_root_mean_squared_error')\n",
    "lr_cv_rmse = -np.mean(lr_cv_scores)\n",
    "\n",
    "# Random Forest Regressor\n",
    "rf = RandomForestRegressor(random_state=42)\n",
    "rf_cv_scores = cross_val_score(rf, X_train, y_train, cv=5, scoring='neg_root_mean_squared_error')\n",
    "rf_cv_rmse = -np.mean(rf_cv_scores)\n",
    "\n",
    "print(f\"Linear Regression CV RMSE: {lr_cv_rmse}\")\n",
    "print(f\"Random Forest CV RMSE: {rf_cv_rmse}\")\n"
   ]
  },
  {
   "cell_type": "code",
   "execution_count": 4,
   "metadata": {},
   "outputs": [
    {
     "name": "stdout",
     "output_type": "stream",
     "text": [
      "Test RMSE: 3.2432202566089683\n"
     ]
    },
    {
     "name": "stderr",
     "output_type": "stream",
     "text": [
      "/Users/shakil/anaconda3/envs/venv_2024/lib/python3.10/site-packages/sklearn/metrics/_regression.py:483: FutureWarning: 'squared' is deprecated in version 1.4 and will be removed in 1.6. To calculate the root mean squared error, use the function'root_mean_squared_error'.\n",
      "  warnings.warn(\n"
     ]
    }
   ],
   "source": [
    "# Model selection and evaluation\n",
    "\n",
    "# Fit the final model\n",
    "rf.fit(X_train, y_train)\n",
    "\n",
    "# Predict on the test set\n",
    "y_pred = rf.predict(X_test)\n",
    "\n",
    "# Evaluate the model\n",
    "test_rmse = mean_squared_error(y_test, y_pred, squared=False)\n",
    "print(f\"Test RMSE: {test_rmse}\")\n"
   ]
  },
  {
   "cell_type": "code",
   "execution_count": 7,
   "metadata": {},
   "outputs": [
    {
     "name": "stdout",
     "output_type": "stream",
     "text": [
      "         AT      V       AP     RH\n",
      "2513  19.64  48.06  1014.81  74.96\n",
      "9411  28.26  69.23  1013.01  42.10\n",
      "8745  27.98  67.17  1007.32  75.29\n",
      "9085  28.64  69.23  1013.11  37.13\n",
      "4950   9.34  38.08  1019.56  67.74\n",
      "...     ...    ...      ...    ...\n",
      "7204  29.06  64.96  1000.88  62.07\n",
      "1599   9.87  40.81  1017.17  84.25\n",
      "5697   8.02  39.04  1018.49  68.07\n",
      "350   26.48  69.14  1009.31  84.11\n",
      "6210  15.34  71.14  1019.79  77.56\n",
      "\n",
      "[1914 rows x 4 columns]\n",
      "(1914, 4)\n"
     ]
    }
   ],
   "source": [
    "print(X_test)\n",
    "print(X_test.shape)"
   ]
  },
  {
   "cell_type": "code",
   "execution_count": 13,
   "metadata": {},
   "outputs": [
    {
     "name": "stderr",
     "output_type": "stream",
     "text": [
      "/Users/shakil/anaconda3/envs/venv_2024/lib/python3.10/site-packages/sklearn/base.py:493: UserWarning: X does not have valid feature names, but RandomForestRegressor was fitted with feature names\n",
      "  warnings.warn(\n"
     ]
    },
    {
     "data": {
      "text/plain": [
       "array([494.7362])"
      ]
     },
     "execution_count": 13,
     "metadata": {},
     "output_type": "execute_result"
    }
   ],
   "source": [
    "single_data_set = [5.41,40.07,1019.16,64.77]      # The PE is 495.24 from dataset. lets see the predicted value  \n",
    "# single_data_set = [7.76,42.28,1008.52,83.31]        # The PE is 483.8 from dataset. lets see the predicted value\n",
    "\n",
    "single_data_set_reshape = np.array(single_data_set).reshape(1, -1)\n",
    "\n",
    "rf.predict(single_data_set_reshape)"
   ]
  },
  {
   "cell_type": "code",
   "execution_count": null,
   "metadata": {},
   "outputs": [],
   "source": []
  }
 ],
 "metadata": {
  "kernelspec": {
   "display_name": "venv_2024",
   "language": "python",
   "name": "python3"
  },
  "language_info": {
   "codemirror_mode": {
    "name": "ipython",
    "version": 3
   },
   "file_extension": ".py",
   "mimetype": "text/x-python",
   "name": "python",
   "nbconvert_exporter": "python",
   "pygments_lexer": "ipython3",
   "version": "3.10.14"
  }
 },
 "nbformat": 4,
 "nbformat_minor": 2
}
